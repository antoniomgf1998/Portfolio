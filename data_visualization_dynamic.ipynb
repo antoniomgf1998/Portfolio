{
 "cells": [
  {
   "cell_type": "markdown",
   "metadata": {},
   "source": [
    "# Packages"
   ]
  },
  {
   "cell_type": "code",
   "execution_count": 8,
   "metadata": {},
   "outputs": [],
   "source": [
    "from ipywidgets import HTML\n",
    "import ipywidgets as widgets\n",
    "from ipyleaflet import Map, Polyline, Rectangle, basemaps, basemap_to_tiles, Polygon, FullScreenControl, Popup, WidgetControl\n",
    "import pandas as pd\n",
    "import numpy as np\n",
    "import math\n",
    "import matplotlib.pyplot as plt\n",
    "from matplotlib import cm\n",
    "from matplotlib.colors import ListedColormap, LinearSegmentedColormap"
   ]
  },
  {
   "cell_type": "markdown",
   "metadata": {},
   "source": [
    "# Functions"
   ]
  },
  {
   "cell_type": "code",
   "execution_count": 9,
   "metadata": {},
   "outputs": [],
   "source": [
    "def rotate(point, rot):\n",
    "    \n",
    "    \"\"\"Given a 'natural' position of the rectangle printed while representing a ship\n",
    "    rotate it to the angle it is currently facing\n",
    "    \"\"\"\n",
    "    \n",
    "    return (point[0]*math.cos(math.radians(rot)) - point[1]*math.sin(math.radians(rot)), \n",
    "            point[0]*math.sin(math.radians(rot)) + point[1]*math.cos(math.radians(rot)))\n",
    "\n",
    "def get_bounds(breadth, length, longitude, latitude, rot_angle):\n",
    "    \"\"\"This function gets the real bounds of a boat ==> Realistic plotting\n",
    "    Knowing that according to: https://en.wikipedia.org/wiki/Decimal_degrees\n",
    "    Assuming 0.00001deg is equal to 1.1132 m\"\"\"\n",
    "    \n",
    "    length = length*0.001/1.1132\n",
    "    breadth = breadth*0.001/1.1132\n",
    "    \n",
    "    center_point = np.array((longitude, latitude))\n",
    "    \n",
    "    ship_shape_ini = [(-breadth/2, length/2), (breadth/2, length/2), (breadth/2, -length/2), (-breadth/2, -length/2)]\n",
    "    \n",
    "    ship_shape_rot = [np.array(rotate(point, rot_angle)) for point in ship_shape_ini]\n",
    "    \n",
    "    xy1 = list(ship_shape_rot[0] + center_point)\n",
    "    xy2 = list(ship_shape_rot[1] + center_point)\n",
    "    xy3 = list(ship_shape_rot[2] + center_point)\n",
    "    xy4 = list(ship_shape_rot[3] + center_point)\n",
    "    \n",
    "    return [xy1,xy2,xy3,xy4]\n",
    "\n",
    "\n",
    "\n",
    "def random_hex_color():\n",
    "    \"\"\"Get a random color to plot a ship\"\"\"\n",
    "    import random\n",
    "    r = lambda: random.randint(0,255)\n",
    "    return ('#%02X%02X%02X' % (r(),r(),r()))\n",
    "\n",
    "def get_color_scale(arr, scale_type='plasma'):\n",
    "    \"\"\"\n",
    "    Function to assign a scale color within plasma predefined scale to plot a feature using color\n",
    "    \"\"\"\n",
    "    arr = list(arr)\n",
    "    #https://matplotlib.org/gallery/color/colormap_reference.html\n",
    "    scale = cm.get_cmap(scale_type, len(arr)).colors\n",
    "    \n",
    "    arr = np.array(arr)\n",
    "    sorted_index = np.argsort(arr)\n",
    "    return {arr[sorted_index[i]]:rgb_to_hex(scale[i]) for i in range(len(arr))}\n",
    "\n",
    "def rgb_to_hex(rgb):\n",
    "    if len(rgb) == 4:\n",
    "        rgb = rgb[:3]\n",
    "    return '#%02x%02x%02x' % tuple(list([int(elem*256) for elem in rgb]))"
   ]
  },
  {
   "cell_type": "markdown",
   "metadata": {},
   "source": [
    "# Loading DataSet"
   ]
  },
  {
   "cell_type": "code",
   "execution_count": 10,
   "metadata": {},
   "outputs": [],
   "source": [
    "filename = '/datc/saab/reduced_area.h5'\n",
    "data = pd.read_hdf(filename, 'df')"
   ]
  },
  {
   "cell_type": "markdown",
   "metadata": {},
   "source": [
    "## Visualize the 5 first rows of data"
   ]
  },
  {
   "cell_type": "code",
   "execution_count": 11,
   "metadata": {
    "scrolled": true
   },
   "outputs": [
    {
     "data": {
      "text/html": [
       "<div>\n",
       "<style scoped>\n",
       "    .dataframe tbody tr th:only-of-type {\n",
       "        vertical-align: middle;\n",
       "    }\n",
       "\n",
       "    .dataframe tbody tr th {\n",
       "        vertical-align: top;\n",
       "    }\n",
       "\n",
       "    .dataframe thead th {\n",
       "        text-align: right;\n",
       "    }\n",
       "</style>\n",
       "<table border=\"1\" class=\"dataframe\">\n",
       "  <thead>\n",
       "    <tr style=\"text-align: right;\">\n",
       "      <th></th>\n",
       "      <th>mmsi</th>\n",
       "      <th>datetime</th>\n",
       "      <th>latitude</th>\n",
       "      <th>longitude</th>\n",
       "      <th>orientation</th>\n",
       "      <th>rateofturn</th>\n",
       "      <th>course</th>\n",
       "      <th>length</th>\n",
       "      <th>breadth</th>\n",
       "      <th>speed</th>\n",
       "      <th>vesseltype</th>\n",
       "    </tr>\n",
       "  </thead>\n",
       "  <tbody>\n",
       "    <tr>\n",
       "      <th>171</th>\n",
       "      <td>56295</td>\n",
       "      <td>2018-11-30 16:00:00.707</td>\n",
       "      <td>22.199854</td>\n",
       "      <td>114.080508</td>\n",
       "      <td>98.0000</td>\n",
       "      <td>0.000000</td>\n",
       "      <td>89.000000</td>\n",
       "      <td>24.50000</td>\n",
       "      <td>3.099609</td>\n",
       "      <td>0.620117</td>\n",
       "      <td>0</td>\n",
       "    </tr>\n",
       "    <tr>\n",
       "      <th>172</th>\n",
       "      <td>56946</td>\n",
       "      <td>2018-11-30 16:00:00.707</td>\n",
       "      <td>22.170015</td>\n",
       "      <td>114.079086</td>\n",
       "      <td>322.5000</td>\n",
       "      <td>0.000000</td>\n",
       "      <td>6.398438</td>\n",
       "      <td>26.00000</td>\n",
       "      <td>7.000000</td>\n",
       "      <td>5.078125</td>\n",
       "      <td>0</td>\n",
       "    </tr>\n",
       "    <tr>\n",
       "      <th>188</th>\n",
       "      <td>54494</td>\n",
       "      <td>2018-11-30 16:00:00.707</td>\n",
       "      <td>22.267552</td>\n",
       "      <td>114.092355</td>\n",
       "      <td>56.3125</td>\n",
       "      <td>0.000000</td>\n",
       "      <td>53.000000</td>\n",
       "      <td>63.00000</td>\n",
       "      <td>12.000000</td>\n",
       "      <td>7.519531</td>\n",
       "      <td>0</td>\n",
       "    </tr>\n",
       "    <tr>\n",
       "      <th>189</th>\n",
       "      <td>0</td>\n",
       "      <td>2018-11-30 16:00:00.707</td>\n",
       "      <td>22.216311</td>\n",
       "      <td>114.091476</td>\n",
       "      <td>166.2500</td>\n",
       "      <td>0.000000</td>\n",
       "      <td>165.000000</td>\n",
       "      <td>54.81250</td>\n",
       "      <td>13.703125</td>\n",
       "      <td>3.759766</td>\n",
       "      <td>0</td>\n",
       "    </tr>\n",
       "    <tr>\n",
       "      <th>190</th>\n",
       "      <td>0</td>\n",
       "      <td>2018-11-30 16:00:00.707</td>\n",
       "      <td>22.191633</td>\n",
       "      <td>114.090895</td>\n",
       "      <td>275.2500</td>\n",
       "      <td>0.000000</td>\n",
       "      <td>136.375000</td>\n",
       "      <td>148.75000</td>\n",
       "      <td>19.203125</td>\n",
       "      <td>0.040009</td>\n",
       "      <td>0</td>\n",
       "    </tr>\n",
       "    <tr>\n",
       "      <th>...</th>\n",
       "      <td>...</td>\n",
       "      <td>...</td>\n",
       "      <td>...</td>\n",
       "      <td>...</td>\n",
       "      <td>...</td>\n",
       "      <td>...</td>\n",
       "      <td>...</td>\n",
       "      <td>...</td>\n",
       "      <td>...</td>\n",
       "      <td>...</td>\n",
       "      <td>...</td>\n",
       "    </tr>\n",
       "    <tr>\n",
       "      <th>42501852</th>\n",
       "      <td>11655</td>\n",
       "      <td>2018-12-01 15:41:15.706</td>\n",
       "      <td>22.247677</td>\n",
       "      <td>114.148988</td>\n",
       "      <td>0.0000</td>\n",
       "      <td>0.000000</td>\n",
       "      <td>0.000000</td>\n",
       "      <td>0.00000</td>\n",
       "      <td>0.000000</td>\n",
       "      <td>0.000000</td>\n",
       "      <td>0</td>\n",
       "    </tr>\n",
       "    <tr>\n",
       "      <th>42501854</th>\n",
       "      <td>54367</td>\n",
       "      <td>2018-12-01 15:41:15.706</td>\n",
       "      <td>22.247290</td>\n",
       "      <td>114.148953</td>\n",
       "      <td>16.0000</td>\n",
       "      <td>0.000000</td>\n",
       "      <td>0.000000</td>\n",
       "      <td>0.00000</td>\n",
       "      <td>0.000000</td>\n",
       "      <td>0.000000</td>\n",
       "      <td>0</td>\n",
       "    </tr>\n",
       "    <tr>\n",
       "      <th>42501855</th>\n",
       "      <td>11797</td>\n",
       "      <td>2018-12-01 15:41:15.706</td>\n",
       "      <td>22.244843</td>\n",
       "      <td>114.125698</td>\n",
       "      <td>122.8125</td>\n",
       "      <td>3.400391</td>\n",
       "      <td>81.500000</td>\n",
       "      <td>24.59375</td>\n",
       "      <td>3.400391</td>\n",
       "      <td>4.589844</td>\n",
       "      <td>0</td>\n",
       "    </tr>\n",
       "    <tr>\n",
       "      <th>42501861</th>\n",
       "      <td>54044</td>\n",
       "      <td>2018-12-01 15:41:15.706</td>\n",
       "      <td>22.250201</td>\n",
       "      <td>114.131207</td>\n",
       "      <td>145.3750</td>\n",
       "      <td>0.000000</td>\n",
       "      <td>146.375000</td>\n",
       "      <td>14.00000</td>\n",
       "      <td>4.000000</td>\n",
       "      <td>8.601562</td>\n",
       "      <td>0</td>\n",
       "    </tr>\n",
       "    <tr>\n",
       "      <th>42501865</th>\n",
       "      <td>0</td>\n",
       "      <td>2018-12-01 15:54:03.707</td>\n",
       "      <td>22.158087</td>\n",
       "      <td>114.148156</td>\n",
       "      <td>209.6250</td>\n",
       "      <td>-6.898438</td>\n",
       "      <td>209.375000</td>\n",
       "      <td>35.68750</td>\n",
       "      <td>5.101562</td>\n",
       "      <td>1.929688</td>\n",
       "      <td>0</td>\n",
       "    </tr>\n",
       "  </tbody>\n",
       "</table>\n",
       "<p>2027895 rows × 11 columns</p>\n",
       "</div>"
      ],
      "text/plain": [
       "           mmsi                datetime   latitude   longitude  orientation  \\\n",
       "171       56295 2018-11-30 16:00:00.707  22.199854  114.080508      98.0000   \n",
       "172       56946 2018-11-30 16:00:00.707  22.170015  114.079086     322.5000   \n",
       "188       54494 2018-11-30 16:00:00.707  22.267552  114.092355      56.3125   \n",
       "189           0 2018-11-30 16:00:00.707  22.216311  114.091476     166.2500   \n",
       "190           0 2018-11-30 16:00:00.707  22.191633  114.090895     275.2500   \n",
       "...         ...                     ...        ...         ...          ...   \n",
       "42501852  11655 2018-12-01 15:41:15.706  22.247677  114.148988       0.0000   \n",
       "42501854  54367 2018-12-01 15:41:15.706  22.247290  114.148953      16.0000   \n",
       "42501855  11797 2018-12-01 15:41:15.706  22.244843  114.125698     122.8125   \n",
       "42501861  54044 2018-12-01 15:41:15.706  22.250201  114.131207     145.3750   \n",
       "42501865      0 2018-12-01 15:54:03.707  22.158087  114.148156     209.6250   \n",
       "\n",
       "          rateofturn      course     length    breadth     speed  vesseltype  \n",
       "171         0.000000   89.000000   24.50000   3.099609  0.620117           0  \n",
       "172         0.000000    6.398438   26.00000   7.000000  5.078125           0  \n",
       "188         0.000000   53.000000   63.00000  12.000000  7.519531           0  \n",
       "189         0.000000  165.000000   54.81250  13.703125  3.759766           0  \n",
       "190         0.000000  136.375000  148.75000  19.203125  0.040009           0  \n",
       "...              ...         ...        ...        ...       ...         ...  \n",
       "42501852    0.000000    0.000000    0.00000   0.000000  0.000000           0  \n",
       "42501854    0.000000    0.000000    0.00000   0.000000  0.000000           0  \n",
       "42501855    3.400391   81.500000   24.59375   3.400391  4.589844           0  \n",
       "42501861    0.000000  146.375000   14.00000   4.000000  8.601562           0  \n",
       "42501865   -6.898438  209.375000   35.68750   5.101562  1.929688           0  \n",
       "\n",
       "[2027895 rows x 11 columns]"
      ]
     },
     "execution_count": 11,
     "metadata": {},
     "output_type": "execute_result"
    }
   ],
   "source": [
    "data = data.dropna()\n",
    "data.head()\n",
    "\n",
    "data.latitude = data['latitude'] + 47.72\n",
    "data.longitude = data['longitude'] + 157.85\n",
    "data"
   ]
  },
  {
   "cell_type": "markdown",
   "metadata": {},
   "source": [
    "# Data visualization (map)"
   ]
  },
  {
   "cell_type": "markdown",
   "metadata": {},
   "source": [
    "### Define variables of the visualization"
   ]
  },
  {
   "cell_type": "code",
   "execution_count": 12,
   "metadata": {},
   "outputs": [],
   "source": [
    "CRAFT_length_list = data.length.unique()\n",
    "color_scale = get_color_scale(CRAFT_length_list, )\n",
    "\n",
    "CRAFT_ID_list = data.mmsi.unique()#Get the mmsi unique values into a list:\n",
    "CRAFT_ID_list = CRAFT_ID_list[CRAFT_ID_list!=0]"
   ]
  },
  {
   "cell_type": "code",
   "execution_count": 13,
   "metadata": {},
   "outputs": [],
   "source": [
    "ships_info = [[[] for  i in range(31)] for j in range(len(CRAFT_ID_list))]#List that will storage a list of lists == a list of time-series(which will as well be represented as a list)\n",
    "\n",
    "ship_number = 0\n",
    "for rowid in CRAFT_ID_list:\n",
    "    #Start with empty lists\n",
    "    npinfo, infolist = [], []\n",
    "    #Get a numpy array composed by 'latitude', 'longitude', 'orientation', 'length', 'breadth'\n",
    "    npinfo = data[data.mmsi == rowid][['latitude', 'longitude', 'orientation', 'length', 'breadth', 'datetime']].values\n",
    "    #Convert it to a python list so it can be an attribute of the multypoligon functionality of ipyleaflet\n",
    "    infolist = coordslist = list([list(coords) for coords in npinfo])\n",
    "    for point in infolist:\n",
    "        ships_info[ship_number][int(str(point[5]).split('-')[2][:2]) - 1].append(point)\n",
    "    ship_number+=1"
   ]
  },
  {
   "cell_type": "markdown",
   "metadata": {},
   "source": [
    "### Visualize"
   ]
  },
  {
   "cell_type": "code",
   "execution_count": 20,
   "metadata": {
    "scrolled": false
   },
   "outputs": [
    {
     "data": {
      "application/vnd.jupyter.widget-view+json": {
       "model_id": "a0856416c6e34b20a0e3311759bf1f29",
       "version_major": 2,
       "version_minor": 0
      },
      "text/plain": [
       "Map(basemap={'url': 'https://{s}.tile.openstreetmap.org/{z}/{x}/{y}.png', 'max_zoom': 19, 'attribution': 'Map …"
      ]
     },
     "metadata": {},
     "output_type": "display_data"
    },
    {
     "data": {
      "application/vnd.jupyter.widget-view+json": {
       "model_id": "8875183511bf475ea47e2f521d9c6108",
       "version_major": 2,
       "version_minor": 0
      },
      "text/plain": [
       "interactive(children=(IntSlider(value=0, continuous_update=False, description='Ships: ', max=581), Output()), …"
      ]
     },
     "metadata": {},
     "output_type": "display_data"
    }
   ],
   "source": [
    "m = Map(center = (22.205232, 114.123882), zoom = 12)#Define the map object\n",
    "\n",
    "#To define  the maximum number of steps we will be able to take with the slider\n",
    "max_steps = max([len(element) for element in ships_info])\n",
    "ships_slider = widgets.IntSlider(\n",
    "    value=0,\n",
    "    min=0,\n",
    "    max=len(ships_info),\n",
    "    step=1,\n",
    "    description='Ships: ',\n",
    "    disabled=False,\n",
    "    continuous_update=False,\n",
    "    orientation='horizontal',\n",
    "    readout=True,\n",
    "    readout_format='d'\n",
    ")\n",
    "widget_steps = WidgetControl(widget=ships_slider, position='topright')\n",
    "m.add_control(widget_steps)\n",
    "m.add_control(FullScreenControl())\n",
    "#dark_matter_layer = basemap_to_tiles(basemaps.CartoDB.DarkMatter)\n",
    "#m.add_layer(dark_matter_layer)\n",
    "previous_value = 0\n",
    "\n",
    "\n",
    "def update_map(ships_slider):\n",
    "    global previous_value, m\n",
    "    if previous_value > ships_slider:\n",
    "        m = Map(center = (-22.884059, 133.714373), zoom =4)#Define the map object\n",
    "        ini, end = 0, ships_slider\n",
    "    else:\n",
    "        ini, end = previous_value, ships_slider\n",
    "        \n",
    "        \n",
    "    for i in range(ini, end):\n",
    "        color_value = '#000000'\n",
    "        #for each time series in ships_info list --> Paint The line\n",
    "        points = [ships_info[i][29][j] for j in range(len(ships_info[i][29])) if len(ships_info[i][29]) < 5000]\n",
    "        line = Polyline(\n",
    "            locations = [[elem[0],elem[1]] for elem in ships_info[i][29]],\n",
    "            color = color_value,\n",
    "            fill_color= \"transparent\",\n",
    "            weight = 3,\n",
    "            opacity = 0.1)\n",
    "\n",
    "        m.add_layer(line)\n",
    "        \"\"\"        if ships_info[i][29] != []:\n",
    "            singular_info = ships_info[i][29][-1]\n",
    "            message = HTML()\n",
    "            message.value = '<b>**DATE: <br>' + str(singular_info[-1]) + '**</b><br><b>Longitude</b>: ' + str(singular_info[0]) + '<br><b>Latitude</b>:  ' + str(singular_info[1]) + \"<br><b>Vessel's Length</b>: \" + str(singular_info[3]) + \"<br><b>Vessel's Breadth</b>: \" + str(singular_info[4]) + \"<br><b>Facing:</b>: \" + str(singular_info[2]) + ' deg'\n",
    "\n",
    "            mapbounds = get_bounds(singular_info[3], singular_info[4], singular_info[0], singular_info[1], singular_info[2])\n",
    "            ship_shape = Polygon(\n",
    "            locations=[mapbounds],\n",
    "            color=color_value,\n",
    "            fill_color=color_value,\n",
    "            fill_opacity=1\n",
    "            )\n",
    "            ship_shape.popup = message\n",
    "            m.add_layer(ship_shape)\"\"\"\n",
    "    previous_value = ships_slider\n",
    "display(m)\n",
    "widgets.interactive(update_map, ships_slider=ships_slider)"
   ]
  },
  {
   "cell_type": "code",
   "execution_count": 26,
   "metadata": {},
   "outputs": [],
   "source": [
    "from ipywidgets.embed import embed_minimal_html, dependency_state\n",
    "embed_minimal_html('density_plot_reduced_area_dynamic' + '.html', views=[m])"
   ]
  },
  {
   "cell_type": "markdown",
   "metadata": {},
   "source": [
    "# Reusable Function To Visualize Ships by IDs"
   ]
  },
  {
   "cell_type": "code",
   "execution_count": 33,
   "metadata": {},
   "outputs": [],
   "source": [
    "def visualize_by_id(ID_list, data, normal = [], medium = [], anomalous = []):\n",
    "    #List that will storage a list of lists == a list of time-series(which will as well be represented as a list)\n",
    "    ships_info = [[[] for  i in range(31)] for j in range(len(ID_list))]\n",
    "    \n",
    "    ship_number = 0\n",
    "    #For each ship in ID_list\n",
    "    for rowid in ID_list:\n",
    "        #Start with empty lists\n",
    "        npinfo, infolist = [], []\n",
    "        #Get a numpy array composed by 'latitude', 'longitude', 'orientation', 'length', 'breadth'\n",
    "        npinfo = data[data.mmsi == rowid][['latitude', 'longitude', 'orientation', 'length', 'breadth', 'datetime']].values\n",
    "        #Convert it to a python list so it can be an attribute of the multypoligon functionality of ipyleaflet\n",
    "        infolist = coordslist = list([list(coords) for coords in npinfo])\n",
    "        for point in infolist:\n",
    "            ships_info[ship_number][int(str(point[5]).split('-')[2][:2]) - 1].append(point)\n",
    "        ship_number+=1\n",
    "        \n",
    "    #Create the map\n",
    "    m = Map(center = (22.205232, 114.123882), zoom = 12)#Define the map object\n",
    "    \n",
    "    #Define the slider widget\n",
    "    ships_slider = widgets.IntSlider(\n",
    "        value=0,\n",
    "        min=0,\n",
    "        max=len(ships_info),\n",
    "        step=1,\n",
    "        description='Ships: ',\n",
    "        disabled=False,\n",
    "        continuous_update=False,\n",
    "        orientation='horizontal',\n",
    "        readout=True,\n",
    "        readout_format='d'\n",
    "    )\n",
    "    \n",
    "    #Add the slider to the map\n",
    "    widget_steps = WidgetControl(widget=ships_slider, position='topright')\n",
    "    m.add_control(widget_steps)\n",
    "    m.add_control(FullScreenControl())\n",
    "    #dark_matter_layer = basemap_to_tiles(basemaps.CartoDB.DarkMatter)\n",
    "    #m.add_layer(dark_matter_layer)\n",
    "    previous_value = 0\n",
    "    \n",
    "\n",
    "    for i in range(0, len(ID_list)):\n",
    "        color = '#000000'\n",
    "        if ID_list[i] in normal:\n",
    "            color_value = '#4FEA5D'\n",
    "        elif ID_list[i] in medium:\n",
    "            color_value = '#E8CE54'\n",
    "        elif ID_list[i] in anomalous:\n",
    "            color_value = '#F74343'\n",
    "            \n",
    "        #for each time series in ships_info list --> Paint The line\n",
    "        points = [ships_info[i][29][j] for j in range(len(ships_info[i][29])) if len(ships_info[i][29]) < 5000]\n",
    "        \n",
    "        line = Polyline(\n",
    "            locations = [[elem[0],elem[1]] for elem in ships_info[i][29]],\n",
    "            color = color_value,\n",
    "            fill_color= \"transparent\",\n",
    "            weight = 3,\n",
    "            opacity = 1)\n",
    "\n",
    "        m.add_layer(line)\n",
    "        \"\"\"        if ships_info[i][29] != []:\n",
    "            singular_info = ships_info[i][29][-1]\n",
    "            message = HTML()\n",
    "            message.value = '<b>**DATE: <br>' + str(singular_info[-1]) + '**</b><br><b>Longitude</b>: ' + str(singular_info[0]) + '<br><b>Latitude</b>:  ' + str(singular_info[1]) + \"<br><b>Vessel's Length</b>: \" + str(singular_info[3]) + \"<br><b>Vessel's Breadth</b>: \" + str(singular_info[4]) + \"<br><b>Facing:</b>: \" + str(singular_info[2]) + ' deg'\n",
    "\n",
    "            mapbounds = get_bounds(singular_info[3], singular_info[4], singular_info[0], singular_info[1], singular_info[2])\n",
    "            ship_shape = Polygon(\n",
    "            locations=[mapbounds],\n",
    "            color=color_value,\n",
    "            fill_color=color_value,\n",
    "            fill_opacity=1\n",
    "            )\n",
    "            ship_shape.popup = message\n",
    "            m.add_layer(ship_shape)\"\"\"\n",
    "    previous_value = ships_slider\n",
    "\n",
    "    return m\n"
   ]
  },
  {
   "cell_type": "markdown",
   "metadata": {},
   "source": [
    "# Test the function"
   ]
  },
  {
   "cell_type": "code",
   "execution_count": 34,
   "metadata": {},
   "outputs": [],
   "source": [
    "m = visualize_by_id(CRAFT_ID_list[:200] , data, normal=CRAFT_ID_list[:150], medium = CRAFT_ID_list[150:180], anomalous=CRAFT_ID_list[180:200])"
   ]
  },
  {
   "cell_type": "markdown",
   "metadata": {},
   "source": [
    "Visualize the results"
   ]
  },
  {
   "cell_type": "code",
   "execution_count": 35,
   "metadata": {},
   "outputs": [
    {
     "data": {
      "application/vnd.jupyter.widget-view+json": {
       "model_id": "05e52eb6d4b542b6b6ac292e81f5539a",
       "version_major": 2,
       "version_minor": 0
      },
      "text/plain": [
       "Map(basemap={'url': 'https://{s}.tile.openstreetmap.org/{z}/{x}/{y}.png', 'max_zoom': 19, 'attribution': 'Map …"
      ]
     },
     "metadata": {},
     "output_type": "display_data"
    }
   ],
   "source": [
    "m"
   ]
  },
  {
   "cell_type": "markdown",
   "metadata": {},
   "source": [
    "### Save the map"
   ]
  },
  {
   "cell_type": "code",
   "execution_count": 36,
   "metadata": {},
   "outputs": [],
   "source": [
    "from ipywidgets.embed import embed_minimal_html, dependency_state\n",
    "embed_minimal_html('reusable_function_with_colors' + '.html', views=[m])"
   ]
  }
 ],
 "metadata": {
  "kernelspec": {
   "display_name": "Python 3",
   "language": "python",
   "name": "python3"
  },
  "language_info": {
   "codemirror_mode": {
    "name": "ipython",
    "version": 3
   },
   "file_extension": ".py",
   "mimetype": "text/x-python",
   "name": "python",
   "nbconvert_exporter": "python",
   "pygments_lexer": "ipython3",
   "version": "3.6.8"
  }
 },
 "nbformat": 4,
 "nbformat_minor": 2
}
