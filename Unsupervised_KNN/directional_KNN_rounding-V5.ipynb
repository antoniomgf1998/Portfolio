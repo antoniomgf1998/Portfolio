{
 "cells": [
  {
   "cell_type": "markdown",
   "metadata": {},
   "source": [
    "# Import packages"
   ]
  },
  {
   "cell_type": "code",
   "execution_count": 1,
   "metadata": {
    "ExecuteTime": {
     "end_time": "2019-12-16T06:21:48.883316Z",
     "start_time": "2019-12-16T06:21:48.047322Z"
    }
   },
   "outputs": [],
   "source": [
    "from ipywidgets import HTML\n",
    "import ipywidgets as widgets\n",
    "from ipyleaflet import Map, Polyline, Rectangle, basemaps, basemap_to_tiles, Polygon, FullScreenControl, Popup, WidgetControl\n",
    "import pandas as pd\n",
    "import numpy as np\n",
    "from matplotlib import cm\n",
    "from matplotlib.colors import ListedColormap, LinearSegmentedColormap\n",
    "from ipyleaflet import Map, basemaps, basemap_to_tiles, Circle, FullScreenControl, LayerGroup\n",
    "from ipywidgets.embed import embed_minimal_html\n",
    "import sys\n",
    "import scipy.stats\n",
    "import matplotlib.pyplot as plt\n",
    "from sklearn.neighbors import KernelDensity\n",
    "from IPython.display import clear_output, display\n",
    "sys.path.append('/datc/saab/notebooks')"
   ]
  },
  {
   "cell_type": "markdown",
   "metadata": {},
   "source": [
    "# Define functions"
   ]
  },
  {
   "cell_type": "code",
   "execution_count": 2,
   "metadata": {
    "ExecuteTime": {
     "end_time": "2019-12-16T06:21:48.918932Z",
     "start_time": "2019-12-16T06:21:48.884698Z"
    }
   },
   "outputs": [],
   "source": [
    "def normalize(v):\n",
    "    \"\"\"\n",
    "    Normalize a vector. Turn into a 1-module vector\n",
    "    \"\"\"\n",
    "    norm = np.linalg.norm(v)\n",
    "    if norm == 0: \n",
    "        return v\n",
    "    return v / norm\n",
    "def plot_directions_map(avg_directions, save=False, filename='default_filename'):\n",
    "    m = Map(center = (22.205232, 114.123882), zoom = 12)#Define the map object\n",
    "    m.layout.height = '100vh'\n",
    "    i = 0\n",
    "    for coords, direction in avg_directions.items():\n",
    "        if direction[0] == 0 or direction[1] == 0:\n",
    "            color_value = 'black'\n",
    "            continue\n",
    "        elif direction[0] > 0 and direction[1] > 0:\n",
    "            color_value = 'green'\n",
    "        elif direction[0] < 0 and direction[1] < 0:\n",
    "            color_value = 'yellow'\n",
    "        elif direction[0] < 0 and direction[1] > 0:\n",
    "            color_value = 'red'\n",
    "        elif direction[0] > 0 and direction[1] < 0:\n",
    "            color_value = 'blue'\n",
    "        line = Polyline(\n",
    "            locations = [list(coords), list(coords+direction/1000)],\n",
    "            color = color_value,\n",
    "            fill_color= \"transparent\",\n",
    "            weight = 3,\n",
    "            opacity = 1)\n",
    "        m.add_layer(line)\n",
    "        i+=1\n",
    "    m.add_control(FullScreenControl())\n",
    "    if save:\n",
    "        embed_minimal_html(filename, views=[m])\n",
    "    return m\n",
    "\n",
    "def Sort(sub_li, fieldnum): \n",
    "    \"\"\"\n",
    "    Sort a dataframe by a field(fieldnum)\n",
    "    \"\"\"\n",
    "    return(sorted(sub_li, key = lambda x: x[fieldnum]))"
   ]
  },
  {
   "cell_type": "markdown",
   "metadata": {},
   "source": [
    "# Import the data"
   ]
  },
  {
   "cell_type": "code",
   "execution_count": 3,
   "metadata": {
    "ExecuteTime": {
     "end_time": "2019-12-16T06:21:50.529078Z",
     "start_time": "2019-12-16T06:21:50.228313Z"
    }
   },
   "outputs": [
    {
     "data": {
      "text/html": [
       "<div>\n",
       "<style scoped>\n",
       "    .dataframe tbody tr th:only-of-type {\n",
       "        vertical-align: middle;\n",
       "    }\n",
       "\n",
       "    .dataframe tbody tr th {\n",
       "        vertical-align: top;\n",
       "    }\n",
       "\n",
       "    .dataframe thead th {\n",
       "        text-align: right;\n",
       "    }\n",
       "</style>\n",
       "<table border=\"1\" class=\"dataframe\">\n",
       "  <thead>\n",
       "    <tr style=\"text-align: right;\">\n",
       "      <th></th>\n",
       "      <th>mmsi</th>\n",
       "      <th>datetime</th>\n",
       "      <th>latitude</th>\n",
       "      <th>longitude</th>\n",
       "      <th>orientation</th>\n",
       "      <th>rateofturn</th>\n",
       "      <th>course</th>\n",
       "      <th>length</th>\n",
       "      <th>breadth</th>\n",
       "      <th>speed</th>\n",
       "      <th>vesseltype</th>\n",
       "    </tr>\n",
       "  </thead>\n",
       "  <tbody>\n",
       "    <tr>\n",
       "      <th>171</th>\n",
       "      <td>56295</td>\n",
       "      <td>2018-11-30 16:00:00.707</td>\n",
       "      <td>22.199854</td>\n",
       "      <td>114.080508</td>\n",
       "      <td>98.0000</td>\n",
       "      <td>0.000000</td>\n",
       "      <td>89.00000</td>\n",
       "      <td>24.500000</td>\n",
       "      <td>3.099609</td>\n",
       "      <td>0.620117</td>\n",
       "      <td>0</td>\n",
       "    </tr>\n",
       "    <tr>\n",
       "      <th>189</th>\n",
       "      <td>0</td>\n",
       "      <td>2018-11-30 16:00:00.707</td>\n",
       "      <td>22.216311</td>\n",
       "      <td>114.091476</td>\n",
       "      <td>166.2500</td>\n",
       "      <td>0.000000</td>\n",
       "      <td>165.00000</td>\n",
       "      <td>54.812500</td>\n",
       "      <td>13.703125</td>\n",
       "      <td>3.759766</td>\n",
       "      <td>0</td>\n",
       "    </tr>\n",
       "    <tr>\n",
       "      <th>190</th>\n",
       "      <td>0</td>\n",
       "      <td>2018-11-30 16:00:00.707</td>\n",
       "      <td>22.191633</td>\n",
       "      <td>114.090895</td>\n",
       "      <td>275.2500</td>\n",
       "      <td>0.000000</td>\n",
       "      <td>136.37500</td>\n",
       "      <td>148.750000</td>\n",
       "      <td>19.203125</td>\n",
       "      <td>0.040009</td>\n",
       "      <td>0</td>\n",
       "    </tr>\n",
       "    <tr>\n",
       "      <th>191</th>\n",
       "      <td>0</td>\n",
       "      <td>2018-11-30 16:00:00.707</td>\n",
       "      <td>22.167373</td>\n",
       "      <td>114.086139</td>\n",
       "      <td>41.8125</td>\n",
       "      <td>0.000000</td>\n",
       "      <td>42.40625</td>\n",
       "      <td>57.906250</td>\n",
       "      <td>8.000000</td>\n",
       "      <td>4.019531</td>\n",
       "      <td>0</td>\n",
       "    </tr>\n",
       "    <tr>\n",
       "      <th>205</th>\n",
       "      <td>93</td>\n",
       "      <td>2018-11-30 16:00:00.707</td>\n",
       "      <td>22.259018</td>\n",
       "      <td>114.105921</td>\n",
       "      <td>144.7500</td>\n",
       "      <td>-3.400391</td>\n",
       "      <td>167.00000</td>\n",
       "      <td>21.296875</td>\n",
       "      <td>2.699219</td>\n",
       "      <td>0.560059</td>\n",
       "      <td>0</td>\n",
       "    </tr>\n",
       "    <tr>\n",
       "      <th>...</th>\n",
       "      <td>...</td>\n",
       "      <td>...</td>\n",
       "      <td>...</td>\n",
       "      <td>...</td>\n",
       "      <td>...</td>\n",
       "      <td>...</td>\n",
       "      <td>...</td>\n",
       "      <td>...</td>\n",
       "      <td>...</td>\n",
       "      <td>...</td>\n",
       "      <td>...</td>\n",
       "    </tr>\n",
       "    <tr>\n",
       "      <th>42501846</th>\n",
       "      <td>54874</td>\n",
       "      <td>2018-12-01 15:41:15.706</td>\n",
       "      <td>22.248155</td>\n",
       "      <td>114.141039</td>\n",
       "      <td>176.7500</td>\n",
       "      <td>0.000000</td>\n",
       "      <td>360.00000</td>\n",
       "      <td>41.000000</td>\n",
       "      <td>18.000000</td>\n",
       "      <td>0.000000</td>\n",
       "      <td>0</td>\n",
       "    </tr>\n",
       "    <tr>\n",
       "      <th>42501852</th>\n",
       "      <td>11655</td>\n",
       "      <td>2018-12-01 15:41:15.706</td>\n",
       "      <td>22.247677</td>\n",
       "      <td>114.148988</td>\n",
       "      <td>0.0000</td>\n",
       "      <td>0.000000</td>\n",
       "      <td>0.00000</td>\n",
       "      <td>0.000000</td>\n",
       "      <td>0.000000</td>\n",
       "      <td>0.000000</td>\n",
       "      <td>0</td>\n",
       "    </tr>\n",
       "    <tr>\n",
       "      <th>42501855</th>\n",
       "      <td>11797</td>\n",
       "      <td>2018-12-01 15:41:15.706</td>\n",
       "      <td>22.244843</td>\n",
       "      <td>114.125698</td>\n",
       "      <td>122.8125</td>\n",
       "      <td>3.400391</td>\n",
       "      <td>81.50000</td>\n",
       "      <td>24.593750</td>\n",
       "      <td>3.400391</td>\n",
       "      <td>4.589844</td>\n",
       "      <td>0</td>\n",
       "    </tr>\n",
       "    <tr>\n",
       "      <th>42501861</th>\n",
       "      <td>54044</td>\n",
       "      <td>2018-12-01 15:41:15.706</td>\n",
       "      <td>22.250201</td>\n",
       "      <td>114.131207</td>\n",
       "      <td>145.3750</td>\n",
       "      <td>0.000000</td>\n",
       "      <td>146.37500</td>\n",
       "      <td>14.000000</td>\n",
       "      <td>4.000000</td>\n",
       "      <td>8.601562</td>\n",
       "      <td>0</td>\n",
       "    </tr>\n",
       "    <tr>\n",
       "      <th>42501865</th>\n",
       "      <td>0</td>\n",
       "      <td>2018-12-01 15:54:03.707</td>\n",
       "      <td>22.158087</td>\n",
       "      <td>114.148156</td>\n",
       "      <td>209.6250</td>\n",
       "      <td>-6.898438</td>\n",
       "      <td>209.37500</td>\n",
       "      <td>35.687500</td>\n",
       "      <td>5.101562</td>\n",
       "      <td>1.929688</td>\n",
       "      <td>0</td>\n",
       "    </tr>\n",
       "  </tbody>\n",
       "</table>\n",
       "<p>1905895 rows × 11 columns</p>\n",
       "</div>"
      ],
      "text/plain": [
       "           mmsi                datetime   latitude   longitude  orientation  \\\n",
       "171       56295 2018-11-30 16:00:00.707  22.199854  114.080508      98.0000   \n",
       "189           0 2018-11-30 16:00:00.707  22.216311  114.091476     166.2500   \n",
       "190           0 2018-11-30 16:00:00.707  22.191633  114.090895     275.2500   \n",
       "191           0 2018-11-30 16:00:00.707  22.167373  114.086139      41.8125   \n",
       "205          93 2018-11-30 16:00:00.707  22.259018  114.105921     144.7500   \n",
       "...         ...                     ...        ...         ...          ...   \n",
       "42501846  54874 2018-12-01 15:41:15.706  22.248155  114.141039     176.7500   \n",
       "42501852  11655 2018-12-01 15:41:15.706  22.247677  114.148988       0.0000   \n",
       "42501855  11797 2018-12-01 15:41:15.706  22.244843  114.125698     122.8125   \n",
       "42501861  54044 2018-12-01 15:41:15.706  22.250201  114.131207     145.3750   \n",
       "42501865      0 2018-12-01 15:54:03.707  22.158087  114.148156     209.6250   \n",
       "\n",
       "          rateofturn     course      length    breadth     speed  vesseltype  \n",
       "171         0.000000   89.00000   24.500000   3.099609  0.620117           0  \n",
       "189         0.000000  165.00000   54.812500  13.703125  3.759766           0  \n",
       "190         0.000000  136.37500  148.750000  19.203125  0.040009           0  \n",
       "191         0.000000   42.40625   57.906250   8.000000  4.019531           0  \n",
       "205        -3.400391  167.00000   21.296875   2.699219  0.560059           0  \n",
       "...              ...        ...         ...        ...       ...         ...  \n",
       "42501846    0.000000  360.00000   41.000000  18.000000  0.000000           0  \n",
       "42501852    0.000000    0.00000    0.000000   0.000000  0.000000           0  \n",
       "42501855    3.400391   81.50000   24.593750   3.400391  4.589844           0  \n",
       "42501861    0.000000  146.37500   14.000000   4.000000  8.601562           0  \n",
       "42501865   -6.898438  209.37500   35.687500   5.101562  1.929688           0  \n",
       "\n",
       "[1905895 rows x 11 columns]"
      ]
     },
     "execution_count": 3,
     "metadata": {},
     "output_type": "execute_result"
    }
   ],
   "source": [
    "# Code to import the data and remove NaN values from it\n",
    "filename = '/datc/saab/reduced_area_clean.h5'\n",
    "data = pd.read_hdf(filename, 'df')\n",
    "#data = data[(50 < data.length )]\n",
    "data = data.dropna()\n",
    "data.head()\n",
    "data.latitude = data['latitude'] + 47.72\n",
    "data.longitude = data['longitude'] + 157.85\n",
    "data\n"
   ]
  },
  {
   "cell_type": "code",
   "execution_count": 4,
   "metadata": {},
   "outputs": [
    {
     "data": {
      "text/html": [
       "<div>\n",
       "<style scoped>\n",
       "    .dataframe tbody tr th:only-of-type {\n",
       "        vertical-align: middle;\n",
       "    }\n",
       "\n",
       "    .dataframe tbody tr th {\n",
       "        vertical-align: top;\n",
       "    }\n",
       "\n",
       "    .dataframe thead th {\n",
       "        text-align: right;\n",
       "    }\n",
       "</style>\n",
       "<table border=\"1\" class=\"dataframe\">\n",
       "  <thead>\n",
       "    <tr style=\"text-align: right;\">\n",
       "      <th></th>\n",
       "      <th>mmsi</th>\n",
       "      <th>latitude</th>\n",
       "      <th>longitude</th>\n",
       "      <th>orientation</th>\n",
       "      <th>rateofturn</th>\n",
       "      <th>course</th>\n",
       "      <th>length</th>\n",
       "      <th>breadth</th>\n",
       "      <th>speed</th>\n",
       "      <th>vesseltype</th>\n",
       "    </tr>\n",
       "  </thead>\n",
       "  <tbody>\n",
       "    <tr>\n",
       "      <th>count</th>\n",
       "      <td>1.905895e+06</td>\n",
       "      <td>1.905895e+06</td>\n",
       "      <td>1.905895e+06</td>\n",
       "      <td>1905895.00</td>\n",
       "      <td>1905895.00</td>\n",
       "      <td>1905895.000</td>\n",
       "      <td>1.905895e+06</td>\n",
       "      <td>1.905895e+06</td>\n",
       "      <td>1.905895e+06</td>\n",
       "      <td>1.905895e+06</td>\n",
       "    </tr>\n",
       "    <tr>\n",
       "      <th>mean</th>\n",
       "      <td>1.456896e+04</td>\n",
       "      <td>2.221842e+01</td>\n",
       "      <td>1.141437e+02</td>\n",
       "      <td>NaN</td>\n",
       "      <td>NaN</td>\n",
       "      <td>NaN</td>\n",
       "      <td>NaN</td>\n",
       "      <td>NaN</td>\n",
       "      <td>NaN</td>\n",
       "      <td>5.116756e-02</td>\n",
       "    </tr>\n",
       "    <tr>\n",
       "      <th>std</th>\n",
       "      <td>2.205727e+04</td>\n",
       "      <td>3.140755e-02</td>\n",
       "      <td>4.314830e-02</td>\n",
       "      <td>NaN</td>\n",
       "      <td>NaN</td>\n",
       "      <td>NaN</td>\n",
       "      <td>NaN</td>\n",
       "      <td>0.000000e+00</td>\n",
       "      <td>0.000000e+00</td>\n",
       "      <td>6.377481e-01</td>\n",
       "    </tr>\n",
       "    <tr>\n",
       "      <th>min</th>\n",
       "      <td>0.000000e+00</td>\n",
       "      <td>2.215582e+01</td>\n",
       "      <td>1.140757e+02</td>\n",
       "      <td>0.00</td>\n",
       "      <td>-337.00</td>\n",
       "      <td>0.000</td>\n",
       "      <td>0.000000e+00</td>\n",
       "      <td>0.000000e+00</td>\n",
       "      <td>0.000000e+00</td>\n",
       "      <td>0.000000e+00</td>\n",
       "    </tr>\n",
       "    <tr>\n",
       "      <th>25%</th>\n",
       "      <td>0.000000e+00</td>\n",
       "      <td>2.219328e+01</td>\n",
       "      <td>1.141069e+02</td>\n",
       "      <td>108.50</td>\n",
       "      <td>0.00</td>\n",
       "      <td>92.875</td>\n",
       "      <td>1.750000e+01</td>\n",
       "      <td>2.500000e+00</td>\n",
       "      <td>6.098633e-01</td>\n",
       "      <td>0.000000e+00</td>\n",
       "    </tr>\n",
       "    <tr>\n",
       "      <th>50%</th>\n",
       "      <td>0.000000e+00</td>\n",
       "      <td>2.222191e+01</td>\n",
       "      <td>1.141355e+02</td>\n",
       "      <td>162.50</td>\n",
       "      <td>0.00</td>\n",
       "      <td>170.375</td>\n",
       "      <td>2.690625e+01</td>\n",
       "      <td>4.898438e+00</td>\n",
       "      <td>3.140625e+00</td>\n",
       "      <td>0.000000e+00</td>\n",
       "    </tr>\n",
       "    <tr>\n",
       "      <th>75%</th>\n",
       "      <td>3.119100e+04</td>\n",
       "      <td>2.224460e+01</td>\n",
       "      <td>1.141775e+02</td>\n",
       "      <td>298.25</td>\n",
       "      <td>0.00</td>\n",
       "      <td>281.750</td>\n",
       "      <td>4.618750e+01</td>\n",
       "      <td>1.070312e+01</td>\n",
       "      <td>4.371094e+00</td>\n",
       "      <td>0.000000e+00</td>\n",
       "    </tr>\n",
       "    <tr>\n",
       "      <th>max</th>\n",
       "      <td>6.506700e+04</td>\n",
       "      <td>2.227465e+01</td>\n",
       "      <td>1.142476e+02</td>\n",
       "      <td>360.00</td>\n",
       "      <td>405.75</td>\n",
       "      <td>360.000</td>\n",
       "      <td>5.000000e+02</td>\n",
       "      <td>1.917500e+02</td>\n",
       "      <td>1.288750e+02</td>\n",
       "      <td>8.000000e+00</td>\n",
       "    </tr>\n",
       "  </tbody>\n",
       "</table>\n",
       "</div>"
      ],
      "text/plain": [
       "               mmsi      latitude     longitude  orientation  rateofturn  \\\n",
       "count  1.905895e+06  1.905895e+06  1.905895e+06   1905895.00  1905895.00   \n",
       "mean   1.456896e+04  2.221842e+01  1.141437e+02          NaN         NaN   \n",
       "std    2.205727e+04  3.140755e-02  4.314830e-02          NaN         NaN   \n",
       "min    0.000000e+00  2.215582e+01  1.140757e+02         0.00     -337.00   \n",
       "25%    0.000000e+00  2.219328e+01  1.141069e+02       108.50        0.00   \n",
       "50%    0.000000e+00  2.222191e+01  1.141355e+02       162.50        0.00   \n",
       "75%    3.119100e+04  2.224460e+01  1.141775e+02       298.25        0.00   \n",
       "max    6.506700e+04  2.227465e+01  1.142476e+02       360.00      405.75   \n",
       "\n",
       "            course        length       breadth         speed    vesseltype  \n",
       "count  1905895.000  1.905895e+06  1.905895e+06  1.905895e+06  1.905895e+06  \n",
       "mean           NaN           NaN           NaN           NaN  5.116756e-02  \n",
       "std            NaN           NaN  0.000000e+00  0.000000e+00  6.377481e-01  \n",
       "min          0.000  0.000000e+00  0.000000e+00  0.000000e+00  0.000000e+00  \n",
       "25%         92.875  1.750000e+01  2.500000e+00  6.098633e-01  0.000000e+00  \n",
       "50%        170.375  2.690625e+01  4.898438e+00  3.140625e+00  0.000000e+00  \n",
       "75%        281.750  4.618750e+01  1.070312e+01  4.371094e+00  0.000000e+00  \n",
       "max        360.000  5.000000e+02  1.917500e+02  1.288750e+02  8.000000e+00  "
      ]
     },
     "execution_count": 4,
     "metadata": {},
     "output_type": "execute_result"
    }
   ],
   "source": [
    "data.describe()"
   ]
  },
  {
   "cell_type": "markdown",
   "metadata": {},
   "source": [
    "# Get a array containing all ship's sequences --> ships_info"
   ]
  },
  {
   "cell_type": "code",
   "execution_count": 5,
   "metadata": {
    "ExecuteTime": {
     "end_time": "2019-12-16T06:21:54.320470Z",
     "start_time": "2019-12-16T06:21:50.569663Z"
    },
    "scrolled": true
   },
   "outputs": [
    {
     "name": "stdout",
     "output_type": "stream",
     "text": [
      "finished\n"
     ]
    }
   ],
   "source": [
    "CRAFT_ID_list = data.mmsi.unique()#Get the mmsi unique values into a list:\n",
    "CRAFT_ID_list = CRAFT_ID_list[CRAFT_ID_list!=0]\n",
    "ships_info = []\n",
    "ship_number = 0\n",
    "for rowid in CRAFT_ID_list:\n",
    "    #Start with empty lists\n",
    "    npinfo, infolist = [], []\n",
    "    #Get a numpy array composed by 'latitude', 'longitude', 'orientation', 'length', 'breadth'\n",
    "    npinfo = data[data.mmsi == rowid][['latitude', 'longitude', 'speed', 'length', 'datetime']].values\n",
    "    \n",
    "    ships_info.append(npinfo)\n",
    "    \n",
    "    ship_number+=1\n",
    "    if ship_number%100 == 0:\n",
    "        print(ship_number, '/', len(CRAFT_ID_list))\n",
    "        clear_output(wait=True)\n",
    "print('finished')\n",
    "ships_info = [Sort(row, -1) for row in ships_info]"
   ]
  },
  {
   "cell_type": "markdown",
   "metadata": {},
   "source": [
    "# Split data into train/tests sets"
   ]
  },
  {
   "cell_type": "code",
   "execution_count": 6,
   "metadata": {
    "ExecuteTime": {
     "end_time": "2019-12-16T06:21:54.325464Z",
     "start_time": "2019-12-16T06:21:54.322289Z"
    }
   },
   "outputs": [],
   "source": [
    "border = int(0.9*len(ships_info))\n",
    "train_ships = ships_info[:border]\n",
    "test_ships = ships_info[border:]"
   ]
  },
  {
   "cell_type": "code",
   "execution_count": 7,
   "metadata": {},
   "outputs": [
    {
     "data": {
      "text/plain": [
       "array([45947, 32691, 54214, 55180,  5621,  2403,  5691, 41568, 13179,\n",
       "       59333, 60604, 29628, 36923, 54034, 11666,  2931, 57637,  7419,\n",
       "       59531, 34821,  2921, 12972,  1089, 40219, 54042, 39739,  4294,\n",
       "        6953,  8295, 35739, 51677,  3865, 14875, 15999, 29579,  1882,\n",
       "       37752, 11276, 52797, 65067, 16875, 38923, 54114, 11797, 60805,\n",
       "       60806, 53963,  4091, 33655, 33698, 13459], dtype=uint64)"
      ]
     },
     "execution_count": 7,
     "metadata": {},
     "output_type": "execute_result"
    }
   ],
   "source": [
    "CRAFT_ID_list[border:]"
   ]
  },
  {
   "cell_type": "markdown",
   "metadata": {},
   "source": [
    "# Get every ship direction"
   ]
  },
  {
   "cell_type": "code",
   "execution_count": 8,
   "metadata": {
    "ExecuteTime": {
     "end_time": "2019-12-16T06:22:02.276411Z",
     "start_time": "2019-12-16T06:21:54.327123Z"
    }
   },
   "outputs": [],
   "source": [
    "directions = []\n",
    "for ship in train_ships:\n",
    "    directions.append([])\n",
    "    for i in range(len(ship)-1):\n",
    "        try:\n",
    "            #direc = np.array([ship[i][2],ship[i][3]])\n",
    "            direc = normalize(ship[i+1][:2]-ship[i][:2])\n",
    "            directions[-1].append(direc)\n",
    "        except Exception as e:\n",
    "            print('problem!!!!!!!!!!!!!!', e)\n",
    "            pass"
   ]
  },
  {
   "cell_type": "markdown",
   "metadata": {},
   "source": [
    "# Get the bounds of the grid according to a number of decimals defined"
   ]
  },
  {
   "cell_type": "code",
   "execution_count": 9,
   "metadata": {
    "ExecuteTime": {
     "end_time": "2019-12-16T06:22:02.891245Z",
     "start_time": "2019-12-16T06:22:02.278234Z"
    }
   },
   "outputs": [
    {
     "name": "stdout",
     "output_type": "stream",
     "text": [
      "22.156 22.275 114.076 114.248\n"
     ]
    }
   ],
   "source": [
    "decimals = 3\n",
    "radius = 10**(-decimals)\n",
    "data = np.round(data[['latitude', 'longitude', 'speed']].values, decimals)\n",
    "\n",
    "\n",
    "minimum_lat = min(data[:,0])\n",
    "maximum_lat = max(data[:,0])\n",
    "minimum_lon = min(data[:,1])\n",
    "maximum_lon = max(data[:,1])\n",
    "print(minimum_lat, maximum_lat, minimum_lon, maximum_lon)"
   ]
  },
  {
   "cell_type": "markdown",
   "metadata": {},
   "source": [
    "# Define the possible values of lat-long along the grid"
   ]
  },
  {
   "cell_type": "code",
   "execution_count": 10,
   "metadata": {
    "ExecuteTime": {
     "end_time": "2019-12-16T06:22:02.895484Z",
     "start_time": "2019-12-16T06:22:02.892557Z"
    }
   },
   "outputs": [],
   "source": [
    "lon_coordinates = np.arange(start=minimum_lon, stop=maximum_lon, step=np.round(10**(-decimals), decimals))\n",
    "lat_coordinates = np.arange(start=minimum_lat, stop=maximum_lat, step=np.round(10**(-decimals), decimals))"
   ]
  },
  {
   "cell_type": "code",
   "execution_count": 11,
   "metadata": {
    "ExecuteTime": {
     "end_time": "2019-12-16T06:22:02.905178Z",
     "start_time": "2019-12-16T06:22:02.896358Z"
    }
   },
   "outputs": [
    {
     "name": "stdout",
     "output_type": "stream",
     "text": [
      "grid size: 173 x 119\n"
     ]
    }
   ],
   "source": [
    "print('grid size:', len(lon_coordinates), 'x', len(lat_coordinates))"
   ]
  },
  {
   "cell_type": "markdown",
   "metadata": {},
   "source": [
    "# Get all node's directions"
   ]
  },
  {
   "cell_type": "code",
   "execution_count": 12,
   "metadata": {
    "ExecuteTime": {
     "end_time": "2019-12-16T06:22:11.386993Z",
     "start_time": "2019-12-16T06:22:02.906085Z"
    },
    "scrolled": true
   },
   "outputs": [
    {
     "name": "stdout",
     "output_type": "stream",
     "text": [
      "Computed  20587  nodes.\n"
     ]
    }
   ],
   "source": [
    "directions_list = {}\n",
    "i=0\n",
    "for lat in lat_coordinates:\n",
    "    for lon in lon_coordinates:            \n",
    "        directions_list[(np.round(lat,decimals), np.round(lon,decimals))]=[]\n",
    "        i+=1\n",
    "\n",
    "for i in range(len(train_ships)):\n",
    "    print('Computing row : ', i+1)\n",
    "    clear_output(wait=True)\n",
    "    for j in range(len(train_ships[i])-1):\n",
    "        try:\n",
    "            directions_list[(np.round(train_ships[i][j][0],decimals), np.round(train_ships[i][j][1],decimals))].append(directions[i][j])\n",
    "        except:\n",
    "            directions_list[(np.round(train_ships[i][j][0],decimals), np.round(train_ships[i][j][1],decimals))] = [directions[i][j]]\n",
    "print('Computed ', len(lon_coordinates)*len(lat_coordinates), ' nodes.')"
   ]
  },
  {
   "cell_type": "markdown",
   "metadata": {},
   "source": [
    "# Get the average direction for each node"
   ]
  },
  {
   "cell_type": "code",
   "execution_count": 13,
   "metadata": {},
   "outputs": [],
   "source": [
    "avg_directions = {}\n",
    "for coords, directions in directions_list.items():\n",
    "    if len(directions) != 0:\n",
    "        avg_directions[coords] = np.nanmean(np.array(directions), axis=0)\n",
    "    else:\n",
    "        avg_directions[coords] = np.array([0, 0])"
   ]
  },
  {
   "cell_type": "code",
   "execution_count": 35,
   "metadata": {},
   "outputs": [
    {
     "data": {
      "application/vnd.jupyter.widget-view+json": {
       "model_id": "88a1262fdd454686a9ecc7ec9bea0e20",
       "version_major": 2,
       "version_minor": 0
      },
      "text/plain": [
       "Map(basemap={'url': 'https://{s}.tile.openstreetmap.org/{z}/{x}/{y}.png', 'max_zoom': 19, 'attribution': 'Map …"
      ]
     },
     "metadata": {},
     "output_type": "display_data"
    }
   ],
   "source": [
    "plot_directions_map(avg_directions, save=True, filename='directionsmap.html')"
   ]
  },
  {
   "cell_type": "markdown",
   "metadata": {},
   "source": [
    "# Get the mean and std deviation for each directions node (Normal distribution)"
   ]
  },
  {
   "cell_type": "code",
   "execution_count": 14,
   "metadata": {
    "ExecuteTime": {
     "end_time": "2019-12-16T06:22:13.711842Z",
     "start_time": "2019-12-16T06:22:11.388809Z"
    }
   },
   "outputs": [],
   "source": [
    "norm_dist_params = {}\n",
    "for coords, directions in directions_list.items():\n",
    "    if len(directions) != 0:\n",
    "        norm_dist_params[coords] = [[np.mean(np.array(directions)[:,0]), np.std(np.array(directions)[:,0])], [np.mean(np.array(directions)[:,1]), np.std(np.array(directions)[:,1])]]\n",
    "    else:\n",
    "        norm_dist_params[coords] = [[np.nan, np.nan],[np.nan, np.nan]]"
   ]
  },
  {
   "cell_type": "markdown",
   "metadata": {},
   "source": [
    "# Aproximate the distribution function of each node using KDE method"
   ]
  },
  {
   "cell_type": "code",
   "execution_count": 15,
   "metadata": {
    "ExecuteTime": {
     "end_time": "2019-12-16T06:22:14.973902Z",
     "start_time": "2019-12-16T06:22:13.713150Z"
    }
   },
   "outputs": [],
   "source": [
    "KDE_density_func = {}\n",
    "\n",
    "class nan_obj:\n",
    "    def score_samples(x,y):\n",
    "         return [np.nan]\n",
    "for coords, directions in directions_list.items():\n",
    "    if len(directions) > 20:\n",
    "        KDE_density_func[coords] = KernelDensity(kernel='gaussian', bandwidth=0.001).fit(directions)\n",
    "    else:\n",
    "        KDE_density_func[coords] = nan_obj()"
   ]
  },
  {
   "cell_type": "markdown",
   "metadata": {},
   "source": [
    "# Explore every node with some plots"
   ]
  },
  {
   "cell_type": "code",
   "execution_count": 16,
   "metadata": {
    "ExecuteTime": {
     "end_time": "2019-12-16T06:37:08.859995Z",
     "start_time": "2019-12-16T06:37:08.306571Z"
    },
    "scrolled": false
   },
   "outputs": [
    {
     "data": {
      "application/vnd.jupyter.widget-view+json": {
       "model_id": "6873587e840b4bc6ad92743cb305db1d",
       "version_major": 2,
       "version_minor": 0
      },
      "text/plain": [
       "interactive(children=(IntSlider(value=3500, continuous_update=False, description='Ships: ', max=10348), Output…"
      ]
     },
     "metadata": {},
     "output_type": "display_data"
    }
   ],
   "source": [
    "keys = [x[0] for x in sorted(directions_list.items(), key=lambda x: len(x[1]), reverse=True) if len(x[1]) > 0]\n",
    "max_steps = len(keys)\n",
    "bandwidth = 0.2\n",
    "# Define the slider\n",
    "ships_slider = widgets.IntSlider(\n",
    "    value=3500,\n",
    "    min=0,\n",
    "    max=max_steps,\n",
    "    step=1,\n",
    "    description='Ships: ',\n",
    "    disabled=False,\n",
    "    continuous_update=False,\n",
    "    orientation='horizontal',\n",
    "    readout=True,\n",
    "    readout_format='d'\n",
    ")\n",
    "\n",
    "# Plot it\n",
    "\n",
    "widget_steps = WidgetControl(widget=ships_slider)\n",
    "previous_value = 0\n",
    "import seaborn as sns\n",
    "#Define the update function for the slider\n",
    "def update_plot(ships_slider):\n",
    "    coords = keys[ships_slider]\n",
    "    directions = directions_list[coords]\n",
    "    mean0 = norm_dist_params[coords][0][0]\n",
    "    std0 = norm_dist_params[coords][0][1]\n",
    "    mean1 = norm_dist_params[coords][1][0]\n",
    "    std1 = norm_dist_params[coords][1][1]\n",
    "    print('mean LAT: ', mean0,'\\nstd  LAT: ', std0)\n",
    "    print('mean LON: ', mean0,'\\nstd  LON: ', std0)\n",
    "    #Define a bound for the plot\n",
    "    x = np.linspace(mean0 - 2*abs(std0), mean0 + 2*abs(std0),100)\n",
    "    y = scipy.stats.norm(mean0,std0).pdf(x)\n",
    "    \n",
    "    #Normal distribution aproximation\n",
    "    plt.plot(x,y,c='blue', alpha=0.5)\n",
    "    \n",
    "    x = np.linspace(mean1 - 2*abs(std1), mean1 + 2*abs(std1),100)\n",
    "    y = scipy.stats.norm(mean1,std1).pdf(x)\n",
    "    #Normal distribution aproximation\n",
    "    plt.plot(x,y,c='red', alpha=0.5)\n",
    "    plt.hist(np.array(directions)[:,0], bins=100,density=True, color='darkblue', alpha=0.5)\n",
    "    plt.hist(np.array(directions)[:,1], bins=100,density=True, color='darkred', alpha=0.5)\n",
    "    plt.title('Normal Distribution Aproximation')\n",
    "    plt.xlabel(\"LAT/LON of the node's directions\")\n",
    "    plt.legend(['Normal aproximation to LON distribution',\n",
    "                'Normal aproximation to LAT actual distribution',\n",
    "                'Actual LON distribution',\n",
    "                'Actual LAT distribution'])\n",
    "    plt.ylabel('Frequency')\n",
    "    plt.show()\n",
    "    # Actual data\n",
    "    plt.hist(np.array(directions)[:,0], bins=100, normed=True, color='darkblue', alpha=0.5)\n",
    "    plt.hist(np.array(directions)[:,1], bins=100, normed=True, color='darkred', alpha=0.5)\n",
    "    sns.kdeplot(np.array(directions)[:,0], kernel = 'tri', color='darkblue', bw=bandwidth)\n",
    "    sns.kdeplot(np.array(directions)[:,1], kernel='tri',  color='darkred', bw=bandwidth)\n",
    "    plt.legend(['LON actual distribution',\n",
    "                'LAT actual distribution',\n",
    "                'LON KDE infered distribution',\n",
    "                'LAT KDE infered distribution'])\n",
    "    plt.title('KDE Distribution Aproximation')\n",
    "    plt.xlabel(\"LAT/LON of the node's directions\")\n",
    "    plt.ylabel('Frequency')\n",
    "    plt.show()\n",
    "    \n",
    "    ax = sns.kdeplot(np.array(directions)[:,0], np.array(directions)[:,1], cbar=True, shade=True)\n",
    "    plt.show()\n",
    "    f, ax = plt.subplots(figsize=(6, 6))\n",
    "    sns.kdeplot(np.array(directions)[:,0], np.array(directions)[:,1], ax=ax, bw = bandwidth)\n",
    "    sns.rugplot(np.array(directions)[:,0], color=\"g\", ax=ax)\n",
    "    sns.rugplot(np.array(directions)[:,1], vertical=True, ax=ax);\n",
    "    plt.title('Gaussian KDE Distribution Aproximation')\n",
    "    plt.xlabel('Latitude')\n",
    "    plt.ylabel('Longitude')\n",
    "    if len(directions)>0:\n",
    "        print('POINT ('+str(coords[0])+', '+ str(coords[1])+ ')')\n",
    "        plt.quiver([0]*len(directions),[0]*len(directions), list(np.array(directions)[:,0]), list(np.array(directions)[:,1]), alpha=0.1)\n",
    "    else:\n",
    "        print('POINT ('+str(coords[0])+', '+ str(coords[1])+ ')')\n",
    "        print('NO INFO')\n",
    "    plt.show()\n",
    "    if len(directions)>0:\n",
    "        print('POINT ('+str(coords[0])+', '+ str(coords[1])+ ')')\n",
    "        plt.quiver([0]*len(directions),[0]*len(directions), list(np.array(directions)[:,0]), list(np.array(directions)[:,1]), alpha=0.1)\n",
    "    else:\n",
    "        print('POINT ('+str(coords[0])+', '+ str(coords[1])+ ')')\n",
    "        print('NO INFO')\n",
    "    plt.show()\n",
    "widgets.interactive(update_plot, ships_slider=ships_slider)"
   ]
  },
  {
   "cell_type": "markdown",
   "metadata": {},
   "source": [
    "# Define the buffer class to reduce noise"
   ]
  },
  {
   "cell_type": "code",
   "execution_count": 17,
   "metadata": {},
   "outputs": [],
   "source": [
    "from collections import Counter\n",
    "\n",
    "class ship_buffer:\n",
    "    def __init__(self, threshold):\n",
    "        self.items = []\n",
    "        self.threshold = threshold\n",
    "\n",
    "    def isEmpty(self):\n",
    "        return self.items == []\n",
    "\n",
    "    def enqueue(self, item):\n",
    "        self.items.insert(0,item)\n",
    "\n",
    "    def dequeue(self):\n",
    "        return self.items.pop()\n",
    "\n",
    "    def size(self):\n",
    "        return len(self.items)\n",
    "    \n",
    "    def color(self):\n",
    "        if sum(elem[1] < .4  for elem in self.items) >= 0.5*len(self.items):\n",
    "            return 'blue'#Anchored\n",
    "        elif sum(np.isnan(elem[0]) for elem in self.items) >= 0.5*len(self.items):\n",
    "            return 'orange'#Too many nan values\n",
    "        elif sum(elem[0] < self.threshold for elem in self.items) >= len(self.items):\n",
    "            return 'red'#Anomaly\n",
    "        else:\n",
    "            return 'green'#OK\n",
    "    \n",
    "    def print_queue(self):\n",
    "        #print(self.items)\n",
    "        return"
   ]
  },
  {
   "cell_type": "markdown",
   "metadata": {},
   "source": [
    "# Threshold and queue size"
   ]
  },
  {
   "cell_type": "code",
   "execution_count": 18,
   "metadata": {},
   "outputs": [],
   "source": [
    "th = 0.5\n",
    "queue_size = 10"
   ]
  },
  {
   "cell_type": "markdown",
   "metadata": {},
   "source": [
    "# Anomalies Map"
   ]
  },
  {
   "cell_type": "code",
   "execution_count": 19,
   "metadata": {
    "scrolled": false
   },
   "outputs": [
    {
     "data": {
      "application/vnd.jupyter.widget-view+json": {
       "model_id": "16c95b40bd1b47fc9f63f0a7dc002db9",
       "version_major": 2,
       "version_minor": 0
      },
      "text/plain": [
       "Map(basemap={'url': 'https://{s}.tile.openstreetmap.org/{z}/{x}/{y}.png', 'max_zoom': 19, 'attribution': 'Map …"
      ]
     },
     "metadata": {},
     "output_type": "display_data"
    },
    {
     "data": {
      "application/vnd.jupyter.widget-view+json": {
       "model_id": "4ea21e867b1e4802b1c434f2c0d5bf89",
       "version_major": 2,
       "version_minor": 0
      },
      "text/plain": [
       "interactive(children=(IntSlider(value=0, continuous_update=False, description='Ships: ', max=51), Output()), _…"
      ]
     },
     "metadata": {},
     "output_type": "display_data"
    }
   ],
   "source": [
    "from scipy import stats\n",
    "import math\n",
    "from ipywidgets import Layout\n",
    "m = Map(center = (22.205232, 114.123882), zoom = 12)#Define the map object\n",
    "\n",
    "#To define  the maximum number of steps we will be able to take with the slider\n",
    "max_steps = len(test_ships)\n",
    "ships_slider = widgets.IntSlider(\n",
    "    value=0,\n",
    "    min=0,\n",
    "    max=max_steps,\n",
    "    step=1,\n",
    "    description='Ships: ',\n",
    "    disabled=False,\n",
    "    continuous_update=False,\n",
    "    orientation='horizontal',\n",
    "    readout=True,\n",
    "    readout_format='d'\n",
    ")\n",
    "\"\"\"out1 = widgets.Output(layout=Layout(width='100%', height='100%'))\n",
    "with out1:\n",
    "    plt.figure(figsize=(2,2))\n",
    "    arrows = plt.quiver(0,0, 1, 1, color='blue')\n",
    "    new_dir = plt.quiver(0,0, -1, -1, color='red')\n",
    "    plt.show()\n",
    "tab = widgets.Tab(children = [out1])\n",
    "tab.set_title(0, 'First')\"\"\"\n",
    "\n",
    "\"\"\"widget_control1 = WidgetControl(widget=tab, position='bottomright')\n",
    "m.add_control(widget_control1)\"\"\"\n",
    "prob_env = ship_buffer(th)\n",
    "for i in range(queue_size):\n",
    "    prob_env.enqueue([np.nan, np.nan])\n",
    "\n",
    "widget_steps = WidgetControl(widget=ships_slider, position='topright')\n",
    "m.add_control(widget_steps)\n",
    "m.add_control(FullScreenControl())\n",
    "dark_matter_layer = basemap_to_tiles(basemaps.CartoDB.DarkMatter)\n",
    "m.add_layer(dark_matter_layer)\n",
    "for ship in train_ships:\n",
    "    line = Polyline(\n",
    "        locations = [[list(elem[:2]) for elem in ship]],\n",
    "        color = 'gray',\n",
    "        fill_color= \"transparent\",\n",
    "        weight = 1,\n",
    "        opacity = 0.1)\n",
    "    m.add_layer(line)\n",
    "previous_value = 0\n",
    "\n",
    "\n",
    "def update_map(ships_slider):\n",
    "    global previous_value, m\n",
    "    if previous_value > ships_slider:\n",
    "        ini, end = 0, ships_slider\n",
    "    else:\n",
    "        ini, end = previous_value, ships_slider\n",
    "        \n",
    "    step = 1\n",
    "    for i in range(ini, end, step):\n",
    "        try:\n",
    "            color_value = 'green'\n",
    "            for j in range(0,len(test_ships[i])-step, step):\n",
    "                #slope = np.array([test_ships[i][j][2], test_ships[i][j][3]])\n",
    "                slope = normalize((test_ships[i][j+step][:2] - test_ships[i][j][:2])/step)\n",
    "                dist_value = (KDE_density_func[(np.round(test_ships[i][j][0], decimals), np.round(test_ships[i][j][1], decimals))].score_samples([slope])[0])\n",
    "                #dist_value = 10**(KDE_density_func[(np.round(test_ships[i][j][0], decimals), np.round(test_ships[i][j][1], decimals))].score_samples([slope])[0])\n",
    "                #print(dist_value)\n",
    "                prob_env.dequeue()\n",
    "                prob_env.enqueue([dist_value, test_ships[i][j][2], len(directions_list[(np.round(test_ships[i][j][0], decimals), np.round(test_ships[i][j][1], decimals))])])\n",
    "                color_value = prob_env.color()\n",
    "                \n",
    "\n",
    "                directions = directions_list[(np.round(test_ships[i][j][0], decimals), np.round(test_ships[i][j][1],decimals))]\n",
    "                \"\"\"with out1:\n",
    "                    for artist in plt.gca().lines + plt.gca().collections:\n",
    "                        artist.remove()\n",
    "                    if len(directions)>0:\n",
    "                        print('POINT ('+str(coords[0])+', '+ str(coords[1])+ ')')\n",
    "                        arrows = plt.quiver([0]*len(directions),[0]*len(directions), list(np.array(directions)[:,1]), list(np.array(directions)[:,0]), alpha=0.1)\n",
    "                    else:\n",
    "                        print('POINT ('+str(coords[0])+', '+ str(coords[1])+ ')')\n",
    "                        print('NO INFO')\n",
    "                    actual_dir = normalize((test_ships[i][j+step][:2] - test_ships[i][j][:2]))\n",
    "                    new_dir = plt.quiver(0,0, actual_dir[1], actual_dir[0], color=color_value)\n",
    "                    plt.show() \"\"\"               \n",
    "                \n",
    "                line = Polyline(\n",
    "                    locations = [list(test_ships[i][j][:2]), list(test_ships[i][j+step][:2])],\n",
    "                    color = color_value,\n",
    "                    fill_color= \"transparent\",\n",
    "                    weight = 2,\n",
    "                    opacity = 1)\n",
    "                m.add_layer(line)\n",
    "        except Exception as e:\n",
    "            print(e)\n",
    "            pass\n",
    "\n",
    "    previous_value = ships_slider\n",
    "display(m)\n",
    "widgets.interactive(update_map, ships_slider=ships_slider)"
   ]
  },
  {
   "cell_type": "code",
   "execution_count": null,
   "metadata": {},
   "outputs": [],
   "source": []
  }
 ],
 "metadata": {
  "kernelspec": {
   "display_name": "Python 3",
   "language": "python",
   "name": "python3"
  },
  "language_info": {
   "codemirror_mode": {
    "name": "ipython",
    "version": 3
   },
   "file_extension": ".py",
   "mimetype": "text/x-python",
   "name": "python",
   "nbconvert_exporter": "python",
   "pygments_lexer": "ipython3",
   "version": "3.6.8"
  }
 },
 "nbformat": 4,
 "nbformat_minor": 2
}
