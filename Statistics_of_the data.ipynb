{
 "cells": [
  {
   "cell_type": "markdown",
   "metadata": {},
   "source": [
    "# Import Packages"
   ]
  },
  {
   "cell_type": "code",
   "execution_count": null,
   "metadata": {},
   "outputs": [],
   "source": [
    "import pandas as pd\n",
    "import numpy as np\n",
    "import sys\n",
    "import plotly as py\n",
    "import ipywidgets \n",
    "import ipyleaflet \n",
    "import matplotlib\n",
    "import matplotlib.colors \n",
    "sys.path.append('/datc/saab/notebooks')"
   ]
  },
  {
   "cell_type": "markdown",
   "metadata": {},
   "source": [
    "# Import Data"
   ]
  },
  {
   "cell_type": "code",
   "execution_count": 2,
   "metadata": {},
   "outputs": [
    {
     "data": {
      "text/html": [
       "<div>\n",
       "<style scoped>\n",
       "    .dataframe tbody tr th:only-of-type {\n",
       "        vertical-align: middle;\n",
       "    }\n",
       "\n",
       "    .dataframe tbody tr th {\n",
       "        vertical-align: top;\n",
       "    }\n",
       "\n",
       "    .dataframe thead th {\n",
       "        text-align: right;\n",
       "    }\n",
       "</style>\n",
       "<table border=\"1\" class=\"dataframe\">\n",
       "  <thead>\n",
       "    <tr style=\"text-align: right;\">\n",
       "      <th></th>\n",
       "      <th>mmsi</th>\n",
       "      <th>datetime</th>\n",
       "      <th>latitude</th>\n",
       "      <th>longitude</th>\n",
       "      <th>orientation</th>\n",
       "      <th>rateofturn</th>\n",
       "      <th>course</th>\n",
       "      <th>length</th>\n",
       "      <th>breadth</th>\n",
       "      <th>speed</th>\n",
       "      <th>vesseltype</th>\n",
       "    </tr>\n",
       "  </thead>\n",
       "  <tbody>\n",
       "    <tr>\n",
       "      <th>171</th>\n",
       "      <td>56295</td>\n",
       "      <td>2018-11-30 16:00:00.707</td>\n",
       "      <td>-25.520146</td>\n",
       "      <td>-43.769492</td>\n",
       "      <td>98.0000</td>\n",
       "      <td>0.000000</td>\n",
       "      <td>89.00000</td>\n",
       "      <td>24.500000</td>\n",
       "      <td>3.099609</td>\n",
       "      <td>0.620117</td>\n",
       "      <td>0</td>\n",
       "    </tr>\n",
       "    <tr>\n",
       "      <th>189</th>\n",
       "      <td>0</td>\n",
       "      <td>2018-11-30 16:00:00.707</td>\n",
       "      <td>-25.503689</td>\n",
       "      <td>-43.758524</td>\n",
       "      <td>166.2500</td>\n",
       "      <td>0.000000</td>\n",
       "      <td>165.00000</td>\n",
       "      <td>54.812500</td>\n",
       "      <td>13.703125</td>\n",
       "      <td>3.759766</td>\n",
       "      <td>0</td>\n",
       "    </tr>\n",
       "    <tr>\n",
       "      <th>190</th>\n",
       "      <td>0</td>\n",
       "      <td>2018-11-30 16:00:00.707</td>\n",
       "      <td>-25.528367</td>\n",
       "      <td>-43.759105</td>\n",
       "      <td>275.2500</td>\n",
       "      <td>0.000000</td>\n",
       "      <td>136.37500</td>\n",
       "      <td>148.750000</td>\n",
       "      <td>19.203125</td>\n",
       "      <td>0.040009</td>\n",
       "      <td>0</td>\n",
       "    </tr>\n",
       "    <tr>\n",
       "      <th>191</th>\n",
       "      <td>0</td>\n",
       "      <td>2018-11-30 16:00:00.707</td>\n",
       "      <td>-25.552627</td>\n",
       "      <td>-43.763861</td>\n",
       "      <td>41.8125</td>\n",
       "      <td>0.000000</td>\n",
       "      <td>42.40625</td>\n",
       "      <td>57.906250</td>\n",
       "      <td>8.000000</td>\n",
       "      <td>4.019531</td>\n",
       "      <td>0</td>\n",
       "    </tr>\n",
       "    <tr>\n",
       "      <th>205</th>\n",
       "      <td>93</td>\n",
       "      <td>2018-11-30 16:00:00.707</td>\n",
       "      <td>-25.460982</td>\n",
       "      <td>-43.744079</td>\n",
       "      <td>144.7500</td>\n",
       "      <td>-3.400391</td>\n",
       "      <td>167.00000</td>\n",
       "      <td>21.296875</td>\n",
       "      <td>2.699219</td>\n",
       "      <td>0.560059</td>\n",
       "      <td>0</td>\n",
       "    </tr>\n",
       "  </tbody>\n",
       "</table>\n",
       "</div>"
      ],
      "text/plain": [
       "      mmsi                datetime   latitude  longitude  orientation  \\\n",
       "171  56295 2018-11-30 16:00:00.707 -25.520146 -43.769492      98.0000   \n",
       "189      0 2018-11-30 16:00:00.707 -25.503689 -43.758524     166.2500   \n",
       "190      0 2018-11-30 16:00:00.707 -25.528367 -43.759105     275.2500   \n",
       "191      0 2018-11-30 16:00:00.707 -25.552627 -43.763861      41.8125   \n",
       "205     93 2018-11-30 16:00:00.707 -25.460982 -43.744079     144.7500   \n",
       "\n",
       "     rateofturn     course      length    breadth     speed  vesseltype  \n",
       "171    0.000000   89.00000   24.500000   3.099609  0.620117           0  \n",
       "189    0.000000  165.00000   54.812500  13.703125  3.759766           0  \n",
       "190    0.000000  136.37500  148.750000  19.203125  0.040009           0  \n",
       "191    0.000000   42.40625   57.906250   8.000000  4.019531           0  \n",
       "205   -3.400391  167.00000   21.296875   2.699219  0.560059           0  "
      ]
     },
     "execution_count": 2,
     "metadata": {},
     "output_type": "execute_result"
    }
   ],
   "source": [
    "# Code to import the data and remove NaN values from it\n",
    "filename = '/datc/saab/reduced_area_clean.h5'\n",
    "data = pd.read_hdf(filename, 'df')\n",
    "\n",
    "for x in ['speed','course', 'length','breadth','orientation','rateofturn']:\n",
    "    data[x]=data[x].astype('float64')\n",
    "\n",
    "\n",
    "#data = data[(100 < data.speed )] \n",
    "data = data.dropna()\n",
    "data.head()\n"
   ]
  },
  {
   "cell_type": "code",
   "execution_count": 3,
   "metadata": {
    "scrolled": true
   },
   "outputs": [
    {
     "data": {
      "text/html": [
       "<div>\n",
       "<style scoped>\n",
       "    .dataframe tbody tr th:only-of-type {\n",
       "        vertical-align: middle;\n",
       "    }\n",
       "\n",
       "    .dataframe tbody tr th {\n",
       "        vertical-align: top;\n",
       "    }\n",
       "\n",
       "    .dataframe thead th {\n",
       "        text-align: right;\n",
       "    }\n",
       "</style>\n",
       "<table border=\"1\" class=\"dataframe\">\n",
       "  <thead>\n",
       "    <tr style=\"text-align: right;\">\n",
       "      <th></th>\n",
       "      <th>mmsi</th>\n",
       "      <th>latitude</th>\n",
       "      <th>longitude</th>\n",
       "      <th>orientation</th>\n",
       "      <th>rateofturn</th>\n",
       "      <th>course</th>\n",
       "      <th>length</th>\n",
       "      <th>breadth</th>\n",
       "      <th>speed</th>\n",
       "      <th>vesseltype</th>\n",
       "    </tr>\n",
       "  </thead>\n",
       "  <tbody>\n",
       "    <tr>\n",
       "      <th>count</th>\n",
       "      <td>1905895.000000</td>\n",
       "      <td>1905895.000000</td>\n",
       "      <td>1905895.000000</td>\n",
       "      <td>1905895.000000</td>\n",
       "      <td>1905895.000000</td>\n",
       "      <td>1905895.000000</td>\n",
       "      <td>1905895.000000</td>\n",
       "      <td>1905895.000000</td>\n",
       "      <td>1905895.000000</td>\n",
       "      <td>1905895.000000</td>\n",
       "    </tr>\n",
       "    <tr>\n",
       "      <th>mean</th>\n",
       "      <td>14568.964110</td>\n",
       "      <td>-25.501576</td>\n",
       "      <td>-43.706298</td>\n",
       "      <td>189.444536</td>\n",
       "      <td>-0.212762</td>\n",
       "      <td>183.609026</td>\n",
       "      <td>47.153729</td>\n",
       "      <td>8.503132</td>\n",
       "      <td>3.207509</td>\n",
       "      <td>0.051168</td>\n",
       "    </tr>\n",
       "    <tr>\n",
       "      <th>std</th>\n",
       "      <td>22057.274061</td>\n",
       "      <td>0.031408</td>\n",
       "      <td>0.043148</td>\n",
       "      <td>104.692363</td>\n",
       "      <td>14.831881</td>\n",
       "      <td>106.591925</td>\n",
       "      <td>59.240508</td>\n",
       "      <td>9.451135</td>\n",
       "      <td>3.191795</td>\n",
       "      <td>0.637748</td>\n",
       "    </tr>\n",
       "    <tr>\n",
       "      <th>min</th>\n",
       "      <td>0.000000</td>\n",
       "      <td>-25.564176</td>\n",
       "      <td>-43.774271</td>\n",
       "      <td>0.000000</td>\n",
       "      <td>-337.000000</td>\n",
       "      <td>0.000000</td>\n",
       "      <td>0.000000</td>\n",
       "      <td>0.000000</td>\n",
       "      <td>0.000000</td>\n",
       "      <td>0.000000</td>\n",
       "    </tr>\n",
       "    <tr>\n",
       "      <th>25%</th>\n",
       "      <td>0.000000</td>\n",
       "      <td>-25.526716</td>\n",
       "      <td>-43.743062</td>\n",
       "      <td>108.500000</td>\n",
       "      <td>0.000000</td>\n",
       "      <td>92.875000</td>\n",
       "      <td>17.500000</td>\n",
       "      <td>2.500000</td>\n",
       "      <td>0.609863</td>\n",
       "      <td>0.000000</td>\n",
       "    </tr>\n",
       "    <tr>\n",
       "      <th>50%</th>\n",
       "      <td>0.000000</td>\n",
       "      <td>-25.498093</td>\n",
       "      <td>-43.714532</td>\n",
       "      <td>162.500000</td>\n",
       "      <td>0.000000</td>\n",
       "      <td>170.375000</td>\n",
       "      <td>26.906250</td>\n",
       "      <td>4.898438</td>\n",
       "      <td>3.140625</td>\n",
       "      <td>0.000000</td>\n",
       "    </tr>\n",
       "    <tr>\n",
       "      <th>75%</th>\n",
       "      <td>31191.000000</td>\n",
       "      <td>-25.475396</td>\n",
       "      <td>-43.672459</td>\n",
       "      <td>298.250000</td>\n",
       "      <td>0.000000</td>\n",
       "      <td>281.750000</td>\n",
       "      <td>46.187500</td>\n",
       "      <td>10.703125</td>\n",
       "      <td>4.371094</td>\n",
       "      <td>0.000000</td>\n",
       "    </tr>\n",
       "    <tr>\n",
       "      <th>max</th>\n",
       "      <td>65067.000000</td>\n",
       "      <td>-25.445345</td>\n",
       "      <td>-43.602423</td>\n",
       "      <td>360.000000</td>\n",
       "      <td>405.750000</td>\n",
       "      <td>360.000000</td>\n",
       "      <td>500.000000</td>\n",
       "      <td>191.750000</td>\n",
       "      <td>128.875000</td>\n",
       "      <td>8.000000</td>\n",
       "    </tr>\n",
       "  </tbody>\n",
       "</table>\n",
       "</div>"
      ],
      "text/plain": [
       "                mmsi       latitude      longitude    orientation  \\\n",
       "count 1905895.000000 1905895.000000 1905895.000000 1905895.000000   \n",
       "mean    14568.964110     -25.501576     -43.706298     189.444536   \n",
       "std     22057.274061       0.031408       0.043148     104.692363   \n",
       "min         0.000000     -25.564176     -43.774271       0.000000   \n",
       "25%         0.000000     -25.526716     -43.743062     108.500000   \n",
       "50%         0.000000     -25.498093     -43.714532     162.500000   \n",
       "75%     31191.000000     -25.475396     -43.672459     298.250000   \n",
       "max     65067.000000     -25.445345     -43.602423     360.000000   \n",
       "\n",
       "          rateofturn         course         length        breadth  \\\n",
       "count 1905895.000000 1905895.000000 1905895.000000 1905895.000000   \n",
       "mean       -0.212762     183.609026      47.153729       8.503132   \n",
       "std        14.831881     106.591925      59.240508       9.451135   \n",
       "min      -337.000000       0.000000       0.000000       0.000000   \n",
       "25%         0.000000      92.875000      17.500000       2.500000   \n",
       "50%         0.000000     170.375000      26.906250       4.898438   \n",
       "75%         0.000000     281.750000      46.187500      10.703125   \n",
       "max       405.750000     360.000000     500.000000     191.750000   \n",
       "\n",
       "               speed     vesseltype  \n",
       "count 1905895.000000 1905895.000000  \n",
       "mean        3.207509       0.051168  \n",
       "std         3.191795       0.637748  \n",
       "min         0.000000       0.000000  \n",
       "25%         0.609863       0.000000  \n",
       "50%         3.140625       0.000000  \n",
       "75%         4.371094       0.000000  \n",
       "max       128.875000       8.000000  "
      ]
     },
     "execution_count": 3,
     "metadata": {},
     "output_type": "execute_result"
    }
   ],
   "source": [
    "data.dropna(inplace=True)\n",
    "pd.set_option('float_format', '{:f}'.format)\n",
    "data.describe()"
   ]
  },
  {
   "cell_type": "markdown",
   "metadata": {},
   "source": [
    "# Visualize length and breadth relation"
   ]
  },
  {
   "cell_type": "code",
   "execution_count": 7,
   "metadata": {},
   "outputs": [
    {
     "data": {
      "text/plain": [
       "<matplotlib.axes._subplots.AxesSubplot at 0x7fdabb308f28>"
      ]
     },
     "execution_count": 7,
     "metadata": {},
     "output_type": "execute_result"
    },
    {
     "data": {
      "image/png": "[encoded data removed]",
      "text/plain": [
       "<Figure size 432x288 with 1 Axes>"
      ]
     },
     "metadata": {
      "needs_background": "light"
     },
     "output_type": "display_data"
    }
   ],
   "source": [
    "data.plot.scatter(y='length', x='breadth', color = \"red\")"
   ]
  },
  {
   "cell_type": "markdown",
   "metadata": {},
   "source": [
    "# Visualize Latitude and Longitude scatter-plot"
   ]
  },
  {
   "cell_type": "code",
   "execution_count": 6,
   "metadata": {},
   "outputs": [
    {
     "data": {
      "text/plain": [
       "<matplotlib.axes._subplots.AxesSubplot at 0x7fdabb317be0>"
      ]
     },
     "execution_count": 6,
     "metadata": {},
     "output_type": "execute_result"
    },
    {
     "data": {
      "image/png": "[encoded data removed]",
      "text/plain": [
       "<Figure size 432x288 with 1 Axes>"
      ]
     },
     "metadata": {
      "needs_background": "light"
     },
     "output_type": "display_data"
    }
   ],
   "source": [
    "data.plot.scatter(y='latitude', x='longitude', color = \"red\")"
   ]
  }
 ],
 "metadata": {
  "kernelspec": {
   "display_name": "Python 3",
   "language": "python",
   "name": "python3"
  },
  "language_info": {
   "codemirror_mode": {
    "name": "ipython",
    "version": 3
   },
   "file_extension": ".py",
   "mimetype": "text/x-python",
   "name": "python",
   "nbconvert_exporter": "python",
   "pygments_lexer": "ipython3",
   "version": "3.6.8"
  }
 },
 "nbformat": 4,
 "nbformat_minor": 2
}
