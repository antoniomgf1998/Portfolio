{
 "cells": [
  {
   "cell_type": "markdown",
   "metadata": {},
   "source": [
    "# Packages"
   ]
  },
  {
   "cell_type": "code",
   "execution_count": 1,
   "metadata": {},
   "outputs": [],
   "source": [
    "from ipywidgets import HTML\n",
    "from ipyleaflet import Map, Polyline, Rectangle, basemaps, basemap_to_tiles, Polygon, FullScreenControl, Popup\n",
    "import pandas as pd\n",
    "import numpy as np\n",
    "import math"
   ]
  },
  {
   "cell_type": "markdown",
   "metadata": {},
   "source": [
    "# Functions"
   ]
  },
  {
   "cell_type": "code",
   "execution_count": 2,
   "metadata": {},
   "outputs": [],
   "source": [
    "def rotate(point, rot):\n",
    "    \n",
    "    \"\"\"Given a 'natural' position of the rectangle printed while representing a ship\n",
    "    rotate it to the angle it is currently facing\n",
    "    \"\"\"\n",
    "    \n",
    "    return (point[0]*math.cos(math.radians(rot)) - point[1]*math.sin(math.radians(rot)), \n",
    "            point[0]*math.sin(math.radians(rot)) + point[1]*math.cos(math.radians(rot)))\n",
    "\n",
    "def get_bounds(breadth, length, longitude, latitude, rot_angle):\n",
    "    \"\"\"This function gets the real bounds of a boat ==> Realistic plotting\n",
    "    Knowing that according to: https://en.wikipedia.org/wiki/Decimal_degrees\n",
    "    Assuming 0.00001deg is equal to 1.1132 m\"\"\"\n",
    "    \n",
    "    length = length*0.001/1.1132\n",
    "    breadth = breadth*0.001/1.1132\n",
    "    \n",
    "    center_point = np.array((longitude, latitude))\n",
    "    \n",
    "    ship_shape_ini = [(-breadth/2, length/2), (breadth/2, length/2), (breadth/2, -length/2), (-breadth/2, -length/2)]\n",
    "    \n",
    "    ship_shape_rot = [np.array(rotate(point, rot_angle)) for point in ship_shape_ini]\n",
    "    \n",
    "    xy1 = list(ship_shape_rot[0] + center_point)\n",
    "    xy2 = list(ship_shape_rot[1] + center_point)\n",
    "    xy3 = list(ship_shape_rot[2] + center_point)\n",
    "    xy4 = list(ship_shape_rot[3] + center_point)\n",
    "    \n",
    "    return [xy1,xy2,xy3,xy4]\n",
    "\n",
    "\n",
    "\n",
    "def random_hex_color():\n",
    "    \"\"\"Get a random color to plot a ship\"\"\"\n",
    "    import random\n",
    "    r = lambda: random.randint(0,255)\n",
    "    return ('#%02X%02X%02X' % (r(),r(),r()))"
   ]
  },
  {
   "cell_type": "markdown",
   "metadata": {},
   "source": [
    "# Loading DataSet"
   ]
  },
  {
   "cell_type": "code",
   "execution_count": 4,
   "metadata": {},
   "outputs": [
    {
     "name": "stderr",
     "output_type": "stream",
     "text": [
      "/opt/jupyterhub/anaconda/lib/python3.6/site-packages/IPython/core/interactiveshell.py:2728: DtypeWarning: Columns (6) have mixed types. Specify dtype option on import or set low_memory=False.\n",
      "  interactivity=interactivity, compiler=compiler, result=result)\n"
     ]
    }
   ],
   "source": [
    "data = pd.read_csv('/datc/saab/Australia_ship_data_2019_8.csv')"
   ]
  },
  {
   "cell_type": "markdown",
   "metadata": {},
   "source": [
    "## Visualize the 5 first rows of data"
   ]
  },
  {
   "cell_type": "code",
   "execution_count": 5,
   "metadata": {},
   "outputs": [
    {
     "data": {
      "text/html": [
       "<div>\n",
       "<style scoped>\n",
       "    .dataframe tbody tr th:only-of-type {\n",
       "        vertical-align: middle;\n",
       "    }\n",
       "\n",
       "    .dataframe tbody tr th {\n",
       "        vertical-align: top;\n",
       "    }\n",
       "\n",
       "    .dataframe thead th {\n",
       "        text-align: right;\n",
       "    }\n",
       "</style>\n",
       "<table border=\"1\" class=\"dataframe\">\n",
       "  <thead>\n",
       "    <tr style=\"text-align: right;\">\n",
       "      <th></th>\n",
       "      <th>CRAFT_ID</th>\n",
       "      <th>LON</th>\n",
       "      <th>LAT</th>\n",
       "      <th>COURSE</th>\n",
       "      <th>SPEED</th>\n",
       "      <th>TYPE</th>\n",
       "      <th>SUBTYPE</th>\n",
       "      <th>LENGTH</th>\n",
       "      <th>BEAM</th>\n",
       "      <th>DRAUGHT</th>\n",
       "      <th>TIMESTAMP</th>\n",
       "    </tr>\n",
       "  </thead>\n",
       "  <tbody>\n",
       "    <tr>\n",
       "      <th>0</th>\n",
       "      <td>-2.145699e+09</td>\n",
       "      <td>83.747228</td>\n",
       "      <td>-2.149778</td>\n",
       "      <td>228.9</td>\n",
       "      <td>13.9</td>\n",
       "      <td>Cargo ship - Carrying DG, HS, or MP, IMO Hazar...</td>\n",
       "      <td>NaN</td>\n",
       "      <td>249</td>\n",
       "      <td>37</td>\n",
       "      <td>0.0</td>\n",
       "      <td>3/08/2019 5:42:31 PM</td>\n",
       "    </tr>\n",
       "    <tr>\n",
       "      <th>1</th>\n",
       "      <td>-2.145699e+09</td>\n",
       "      <td>83.464902</td>\n",
       "      <td>-2.382468</td>\n",
       "      <td>231.4</td>\n",
       "      <td>14.0</td>\n",
       "      <td>Cargo ship - Carrying DG, HS, or MP, IMO Hazar...</td>\n",
       "      <td>NaN</td>\n",
       "      <td>249</td>\n",
       "      <td>37</td>\n",
       "      <td>0.0</td>\n",
       "      <td>3/08/2019 7:16:44 PM</td>\n",
       "    </tr>\n",
       "    <tr>\n",
       "      <th>2</th>\n",
       "      <td>-2.145699e+09</td>\n",
       "      <td>83.170673</td>\n",
       "      <td>-2.614127</td>\n",
       "      <td>232.4</td>\n",
       "      <td>13.9</td>\n",
       "      <td>Cargo ship - Carrying DG, HS, or MP, IMO Hazar...</td>\n",
       "      <td>NaN</td>\n",
       "      <td>249</td>\n",
       "      <td>37</td>\n",
       "      <td>0.0</td>\n",
       "      <td>3/08/2019 8:51:44 PM</td>\n",
       "    </tr>\n",
       "    <tr>\n",
       "      <th>3</th>\n",
       "      <td>-2.145699e+09</td>\n",
       "      <td>82.966347</td>\n",
       "      <td>-2.770928</td>\n",
       "      <td>233.2</td>\n",
       "      <td>13.8</td>\n",
       "      <td>Cargo ship - Carrying DG, HS, or MP, IMO Hazar...</td>\n",
       "      <td>NaN</td>\n",
       "      <td>249</td>\n",
       "      <td>37</td>\n",
       "      <td>0.0</td>\n",
       "      <td>3/08/2019 9:57:32 PM</td>\n",
       "    </tr>\n",
       "    <tr>\n",
       "      <th>4</th>\n",
       "      <td>-2.145699e+09</td>\n",
       "      <td>82.656687</td>\n",
       "      <td>-2.973700</td>\n",
       "      <td>233.9</td>\n",
       "      <td>14.1</td>\n",
       "      <td>Cargo ship - Carrying DG, HS, or MP, IMO Hazar...</td>\n",
       "      <td>NaN</td>\n",
       "      <td>249</td>\n",
       "      <td>37</td>\n",
       "      <td>0.0</td>\n",
       "      <td>3/08/2019 11:30:56 PM</td>\n",
       "    </tr>\n",
       "  </tbody>\n",
       "</table>\n",
       "</div>"
      ],
      "text/plain": [
       "       CRAFT_ID        LON       LAT  COURSE  SPEED  \\\n",
       "0 -2.145699e+09  83.747228 -2.149778   228.9   13.9   \n",
       "1 -2.145699e+09  83.464902 -2.382468   231.4   14.0   \n",
       "2 -2.145699e+09  83.170673 -2.614127   232.4   13.9   \n",
       "3 -2.145699e+09  82.966347 -2.770928   233.2   13.8   \n",
       "4 -2.145699e+09  82.656687 -2.973700   233.9   14.1   \n",
       "\n",
       "                                                TYPE SUBTYPE  LENGTH  BEAM  \\\n",
       "0  Cargo ship - Carrying DG, HS, or MP, IMO Hazar...     NaN     249    37   \n",
       "1  Cargo ship - Carrying DG, HS, or MP, IMO Hazar...     NaN     249    37   \n",
       "2  Cargo ship - Carrying DG, HS, or MP, IMO Hazar...     NaN     249    37   \n",
       "3  Cargo ship - Carrying DG, HS, or MP, IMO Hazar...     NaN     249    37   \n",
       "4  Cargo ship - Carrying DG, HS, or MP, IMO Hazar...     NaN     249    37   \n",
       "\n",
       "   DRAUGHT              TIMESTAMP  \n",
       "0      0.0   3/08/2019 5:42:31 PM  \n",
       "1      0.0   3/08/2019 7:16:44 PM  \n",
       "2      0.0   3/08/2019 8:51:44 PM  \n",
       "3      0.0   3/08/2019 9:57:32 PM  \n",
       "4      0.0  3/08/2019 11:30:56 PM  "
      ]
     },
     "execution_count": 5,
     "metadata": {},
     "output_type": "execute_result"
    }
   ],
   "source": [
    "data.head()"
   ]
  },
  {
   "cell_type": "markdown",
   "metadata": {},
   "source": [
    "# Data visualization (map)"
   ]
  },
  {
   "cell_type": "markdown",
   "metadata": {},
   "source": [
    "## Creating the map"
   ]
  },
  {
   "cell_type": "code",
   "execution_count": 7,
   "metadata": {},
   "outputs": [],
   "source": [
    "CRAFT_ID_list = data.CRAFT_ID.unique()#Get the mmsi unique values into a list:\n",
    "\n",
    "ships_info = []#List that will storage a list of lists == a list of time-series(which will as well be represented as a list)\n",
    "\n",
    "m = Map(center = (-27.117040, -37.788292), zoom =5)#Define the map object\n",
    "\n",
    "for rowid in CRAFT_ID_list[:50]:\n",
    "    #Start with empty lists\n",
    "    npinfo, infolist = [], []\n",
    "    #Get a numpy array composed by 'latitude', 'longitude', 'orientation', 'length', 'breadth'\n",
    "    npinfo = data[data.CRAFT_ID == rowid][['LAT', 'LON', 'COURSE', 'LENGTH', 'BEAM', 'TIMESTAMP']].values\n",
    "    #Convert it to a python list so it can be an attribute of the multypoligon functionality of ipyleaflet\n",
    "    infolist = coordslist = list([list(coords) for coords in npinfo])\n",
    "    ships_info.append(infolist)\n",
    "\n",
    "    \n",
    "    \n",
    "for i in range(len(ships_info)):#for each time series in ships_info list\n",
    "    color_value = random_hex_color()\n",
    "    line = Polyline(\n",
    "        locations = [[elem[0],elem[1]] for elem in ships_info[i]],\n",
    "        color = color_value,\n",
    "        fill_color= \"transparent\",\n",
    "        weight = 3,\n",
    "        opacity = 0.8)\n",
    "    m.add_layer(line)\n",
    "    for singular_info in [ships_info[i][e] for e in range(len(ships_info[i])) if e%5==0]:\n",
    "        \n",
    "        message = HTML()\n",
    "        message.value = '<b>**DATE: <br>' + str(singular_info[-1]) + '**</b><br><b>Longitude</b>: (' + str(singular_info[0]) + '<br><b>Latitude</b>:  ' + str(singular_info[1]) + \"<br><b>Vessel's Length</b>: \" + str(singular_info[3]) + \"<br><b>Vessel's Breadth</b>: \" + str(singular_info[4])\n",
    "        \n",
    "        \n",
    "        mapbounds = get_bounds(singular_info[3], singular_info[4], singular_info[0], singular_info[1], singular_info[2])\n",
    "        ship_shape = Polygon(\n",
    "        locations=[mapbounds],\n",
    "        color=color_value,\n",
    "        fill_color=color_value,\n",
    "        fill_opacity=1\n",
    "        )\n",
    "        ship_shape.popup = message\n",
    "        #ship_shade = Rectangle(bounds=(mapbounds[0], mapbounds[1]), fill_opacity=1, fill_color = color_value, color = color_value)\n",
    "        m.add_layer(ship_shape)"
   ]
  },
  {
   "cell_type": "code",
   "execution_count": 8,
   "metadata": {
    "scrolled": false
   },
   "outputs": [
    {
     "data": {
      "application/vnd.jupyter.widget-view+json": {
       "model_id": "a40721e5c54b43c2bf783717df7226ae",
       "version_major": 2,
       "version_minor": 0
      },
      "text/plain": [
       "Map(basemap={'url': 'https://{s}.tile.openstreetmap.org/{z}/{x}/{y}.png', 'max_zoom': 19, 'attribution': 'Map …"
      ]
     },
     "metadata": {},
     "output_type": "display_data"
    }
   ],
   "source": [
    "m.add_control(FullScreenControl())\n",
    "m"
   ]
  },
  {
   "cell_type": "markdown",
   "metadata": {},
   "source": [
    "# Save the map"
   ]
  },
  {
   "cell_type": "code",
   "execution_count": 9,
   "metadata": {},
   "outputs": [],
   "source": [
    "from ipywidgets.embed import embed_minimal_html\n",
    "embed_minimal_html('australia_50_random_color_visualization.html', views=[m])"
   ]
  },
  {
   "cell_type": "code",
   "execution_count": null,
   "metadata": {},
   "outputs": [],
   "source": []
  }
 ],
 "metadata": {
  "kernelspec": {
   "display_name": "Python 3",
   "language": "python",
   "name": "python3"
  },
  "language_info": {
   "codemirror_mode": {
    "name": "ipython",
    "version": 3
   },
   "file_extension": ".py",
   "mimetype": "text/x-python",
   "name": "python",
   "nbconvert_exporter": "python",
   "pygments_lexer": "ipython3",
   "version": "3.6.8"
  }
 },
 "nbformat": 4,
 "nbformat_minor": 2
}
